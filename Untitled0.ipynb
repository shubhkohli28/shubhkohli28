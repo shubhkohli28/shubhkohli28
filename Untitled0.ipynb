{
  "nbformat": 4,
  "nbformat_minor": 0,
  "metadata": {
    "colab": {
      "provenance": [],
      "mount_file_id": "13xkx2yfpIt8VHR-OUo7VL5obYm7bEuOS",
      "authorship_tag": "ABX9TyObvuceuCTWkFELG7TMMxMQ",
      "include_colab_link": true
    },
    "kernelspec": {
      "name": "python3",
      "display_name": "Python 3"
    },
    "language_info": {
      "name": "python"
    }
  },
  "cells": [
    {
      "cell_type": "markdown",
      "metadata": {
        "id": "view-in-github",
        "colab_type": "text"
      },
      "source": [
        "<a href=\"https://colab.research.google.com/github/shubhkohli28/shubhkohli28/blob/main/Untitled0.ipynb\" target=\"_parent\"><img src=\"https://colab.research.google.com/assets/colab-badge.svg\" alt=\"Open In Colab\"/></a>"
      ]
    },
    {
      "cell_type": "code",
      "source": [
        "import pandas as pd\n",
        "import numpy as np\n",
        "import matplotlib.pyplot as plt\n",
        "import seaborn as sns\n",
        "df = pd.read_csv('archive (1).zip', compression='zip')\n",
        "df.head()\n",
        "df.shape\n",
        "df.isnull().sum()\n",
        "df['sentiment'].value_counts()\n",
        "sns.set_style('whitegrid')\n",
        "plt.figure(figsize=(6,4))\n",
        "sns.countplot(x='sentiment',data=df)\n",
        "plt.title('Class Distribution: Positive vs. Negative Reviews')\n",
        "plt.show()"
      ],
      "metadata": {
        "id": "c3fSi422fwWF",
        "colab": {
          "base_uri": "https://localhost:8080/",
          "height": 410
        },
        "outputId": "5fe094ef-c5e7-43a1-8a67-dbddd265dba5"
      },
      "execution_count": null,
      "outputs": [
        {
          "output_type": "display_data",
          "data": {
            "text/plain": [
              "<Figure size 600x400 with 1 Axes>"
            ],
            "image/png": "[encoded data removed]"
          },
          "metadata": {}
        }
      ]
    },
    {
      "cell_type": "code",
      "metadata": {
        "colab": {
          "base_uri": "https://localhost:8080/"
        },
        "id": "755adc00",
        "outputId": "b59e7318-f05c-4c88-fd3f-7064c2e64825"
      },
      "source": [
        "import zipfile\n",
        "import os\n",
        "import pandas as pd\n",
        "\n",
        "file_path = '/content/archive (1).zip'\n",
        "extract_path = '/content/'\n",
        "\n",
        "try:\n",
        "    with zipfile.ZipFile(file_path, 'r') as zip_ref:\n",
        "        zip_ref.extractall(extract_path)\n",
        "    print(\"File unzipped successfully.\")\n",
        "\n",
        "    # Assuming the unzipped file is a CSV and has a similar name or you know the name\n",
        "    # You might need to adjust the CSV file name below based on the actual extracted file name\n",
        "    csv_file_path = os.path.join(extract_path, 'your_csv_file_name.csv') # Replace 'your_csv_file_name.csv' with the actual CSV file name\n",
        "    df = pd.read_csv(csv_file_path)\n",
        "    print(\"CSV file read successfully.\")\n",
        "    display(df.head())\n",
        "\n",
        "except zipfile.BadZipFile:\n",
        "    print(f\"Error: The file {file_path} is not a valid zip file.\")\n",
        "except FileNotFoundError:\n",
        "    print(f\"Error: The file {file_path} was not found.\")\n",
        "except Exception as e:\n",
        "    print(f\"An error occurred: {e}\")"
      ],
      "execution_count": null,
      "outputs": [
        {
          "output_type": "stream",
          "name": "stdout",
          "text": [
            "File unzipped successfully.\n",
            "Error: The file /content/archive (1).zip was not found.\n"
          ]
        }
      ]
    },
    {
      "cell_type": "code",
      "source": [
        "import re\n",
        "def remove_html_tags(text):\n",
        "   pattern = re.compile('<.*?>')\n",
        "   return pattern.sub('', text)\n",
        "\n",
        "def to_lowercase(text):\n",
        "  return text.lower()\n",
        "\n",
        "def remove_punctuation(text):\n",
        "  return re.sub(r'[^a-z0-9\\s]', ' ', text).strip()\n",
        "\n",
        "df['review'] = df['review'].apply(to_lowercase)\n",
        "print(\"DataFrame after applying the lowercase function:\")\n",
        "df.head()\n",
        "df['review'] = df['review'].apply(remove_html_tags)\n",
        "print(\"DataFrame after removing HTML tags:\")\n",
        "df.head()\n",
        "df['review'] = df['review'].apply(remove_punctuation)\n",
        "print(\"DataFrame after removing punctuation:\")\n",
        "df.head()"
      ],
      "metadata": {
        "colab": {
          "base_uri": "https://localhost:8080/",
          "height": 258
        },
        "id": "vrItS1y1kczE",
        "outputId": "e8cd33e6-5f8d-4425-bf30-972cb8b9c21a"
      },
      "execution_count": null,
      "outputs": [
        {
          "output_type": "stream",
          "name": "stdout",
          "text": [
            "DataFrame after applying the lowercase function:\n",
            "DataFrame after removing HTML tags:\n",
            "DataFrame after removing punctuation:\n"
          ]
        },
        {
          "output_type": "execute_result",
          "data": {
            "text/plain": [
              "                                              review sentiment\n",
              "0  one of the other reviewers has mentioned that ...  positive\n",
              "1  a wonderful little production  the filming tec...  positive\n",
              "2  i thought this was a wonderful way to spend ti...  positive\n",
              "3  basically there s a family where a little boy ...  negative\n",
              "4  petter mattei s  love in the time of money  is...  positive"
            ],
            "text/html": [
              "\n",
              "  <div id=\"df-88d7da40-447e-4a8b-aa76-1c47e624100d\" class=\"colab-df-container\">\n",
              "    <div>\n",
              "<style scoped>\n",
              "    .dataframe tbody tr th:only-of-type {\n",
              "        vertical-align: middle;\n",
              "    }\n",
              "\n",
              "    .dataframe tbody tr th {\n",
              "        vertical-align: top;\n",
              "    }\n",
              "\n",
              "    .dataframe thead th {\n",
              "        text-align: right;\n",
              "    }\n",
              "</style>\n",
              "<table border=\"1\" class=\"dataframe\">\n",
              "  <thead>\n",
              "    <tr style=\"text-align: right;\">\n",
              "      <th></th>\n",
              "      <th>review</th>\n",
              "      <th>sentiment</th>\n",
              "    </tr>\n",
              "  </thead>\n",
              "  <tbody>\n",
              "    <tr>\n",
              "      <th>0</th>\n",
              "      <td>one of the other reviewers has mentioned that ...</td>\n",
              "      <td>positive</td>\n",
              "    </tr>\n",
              "    <tr>\n",
              "      <th>1</th>\n",
              "      <td>a wonderful little production  the filming tec...</td>\n",
              "      <td>positive</td>\n",
              "    </tr>\n",
              "    <tr>\n",
              "      <th>2</th>\n",
              "      <td>i thought this was a wonderful way to spend ti...</td>\n",
              "      <td>positive</td>\n",
              "    </tr>\n",
              "    <tr>\n",
              "      <th>3</th>\n",
              "      <td>basically there s a family where a little boy ...</td>\n",
              "      <td>negative</td>\n",
              "    </tr>\n",
              "    <tr>\n",
              "      <th>4</th>\n",
              "      <td>petter mattei s  love in the time of money  is...</td>\n",
              "      <td>positive</td>\n",
              "    </tr>\n",
              "  </tbody>\n",
              "</table>\n",
              "</div>\n",
              "    <div class=\"colab-df-buttons\">\n",
              "\n",
              "  <div class=\"colab-df-container\">\n",
              "    <button class=\"colab-df-convert\" onclick=\"convertToInteractive('df-88d7da40-447e-4a8b-aa76-1c47e624100d')\"\n",
              "            title=\"Convert this dataframe to an interactive table.\"\n",
              "            style=\"display:none;\">\n",
              "\n",
              "  <svg xmlns=\"http://www.w3.org/2000/svg\" height=\"24px\" viewBox=\"0 -960 960 960\">\n",
              "    <path d=\"M120-120v-720h720v720H120Zm60-500h600v-160H180v160Zm220 220h160v-160H400v160Zm0 220h160v-160H400v160ZM180-400h160v-160H180v160Zm440 0h160v-160H620v160ZM180-180h160v-160H180v160Zm440 0h160v-160H620v160Z\"/>\n",
              "  </svg>\n",
              "    </button>\n",
              "\n",
              "  <style>\n",
              "    .colab-df-container {\n",
              "      display:flex;\n",
              "      gap: 12px;\n",
              "    }\n",
              "\n",
              "    .colab-df-convert {\n",
              "      background-color: #E8F0FE;\n",
              "      border: none;\n",
              "      border-radius: 50%;\n",
              "      cursor: pointer;\n",
              "      display: none;\n",
              "      fill: #1967D2;\n",
              "      height: 32px;\n",
              "      padding: 0 0 0 0;\n",
              "      width: 32px;\n",
              "    }\n",
              "\n",
              "    .colab-df-convert:hover {\n",
              "      background-color: #E2EBFA;\n",
              "      box-shadow: 0px 1px 2px rgba(60, 64, 67, 0.3), 0px 1px 3px 1px rgba(60, 64, 67, 0.15);\n",
              "      fill: #174EA6;\n",
              "    }\n",
              "\n",
              "    .colab-df-buttons div {\n",
              "      margin-bottom: 4px;\n",
              "    }\n",
              "\n",
              "    [theme=dark] .colab-df-convert {\n",
              "      background-color: #3B4455;\n",
              "      fill: #D2E3FC;\n",
              "    }\n",
              "\n",
              "    [theme=dark] .colab-df-convert:hover {\n",
              "      background-color: #434B5C;\n",
              "      box-shadow: 0px 1px 3px 1px rgba(0, 0, 0, 0.15);\n",
              "      filter: drop-shadow(0px 1px 2px rgba(0, 0, 0, 0.3));\n",
              "      fill: #FFFFFF;\n",
              "    }\n",
              "  </style>\n",
              "\n",
              "    <script>\n",
              "      const buttonEl =\n",
              "        document.querySelector('#df-88d7da40-447e-4a8b-aa76-1c47e624100d button.colab-df-convert');\n",
              "      buttonEl.style.display =\n",
              "        google.colab.kernel.accessAllowed ? 'block' : 'none';\n",
              "\n",
              "      async function convertToInteractive(key) {\n",
              "        const element = document.querySelector('#df-88d7da40-447e-4a8b-aa76-1c47e624100d');\n",
              "        const dataTable =\n",
              "          await google.colab.kernel.invokeFunction('convertToInteractive',\n",
              "                                                    [key], {});\n",
              "        if (!dataTable) return;\n",
              "\n",
              "        const docLinkHtml = 'Like what you see? Visit the ' +\n",
              "          '<a target=\"_blank\" href=https://colab.research.google.com/notebooks/data_table.ipynb>data table notebook</a>'\n",
              "          + ' to learn more about interactive tables.';\n",
              "        element.innerHTML = '';\n",
              "        dataTable['output_type'] = 'display_data';\n",
              "        await google.colab.output.renderOutput(dataTable, element);\n",
              "        const docLink = document.createElement('div');\n",
              "        docLink.innerHTML = docLinkHtml;\n",
              "        element.appendChild(docLink);\n",
              "      }\n",
              "    </script>\n",
              "  </div>\n",
              "\n",
              "\n",
              "    <div id=\"df-fca369b9-45fa-4dbc-9b70-97eb79dbf121\">\n",
              "      <button class=\"colab-df-quickchart\" onclick=\"quickchart('df-fca369b9-45fa-4dbc-9b70-97eb79dbf121')\"\n",
              "                title=\"Suggest charts\"\n",
              "                style=\"display:none;\">\n",
              "\n",
              "<svg xmlns=\"http://www.w3.org/2000/svg\" height=\"24px\"viewBox=\"0 0 24 24\"\n",
              "     width=\"24px\">\n",
              "    <g>\n",
              "        <path d=\"M19 3H5c-1.1 0-2 .9-2 2v14c0 1.1.9 2 2 2h14c1.1 0 2-.9 2-2V5c0-1.1-.9-2-2-2zM9 17H7v-7h2v7zm4 0h-2V7h2v10zm4 0h-2v-4h2v4z\"/>\n",
              "    </g>\n",
              "</svg>\n",
              "      </button>\n",
              "\n",
              "<style>\n",
              "  .colab-df-quickchart {\n",
              "      --bg-color: #E8F0FE;\n",
              "      --fill-color: #1967D2;\n",
              "      --hover-bg-color: #E2EBFA;\n",
              "      --hover-fill-color: #174EA6;\n",
              "      --disabled-fill-color: #AAA;\n",
              "      --disabled-bg-color: #DDD;\n",
              "  }\n",
              "\n",
              "  [theme=dark] .colab-df-quickchart {\n",
              "      --bg-color: #3B4455;\n",
              "      --fill-color: #D2E3FC;\n",
              "      --hover-bg-color: #434B5C;\n",
              "      --hover-fill-color: #FFFFFF;\n",
              "      --disabled-bg-color: #3B4455;\n",
              "      --disabled-fill-color: #666;\n",
              "  }\n",
              "\n",
              "  .colab-df-quickchart {\n",
              "    background-color: var(--bg-color);\n",
              "    border: none;\n",
              "    border-radius: 50%;\n",
              "    cursor: pointer;\n",
              "    display: none;\n",
              "    fill: var(--fill-color);\n",
              "    height: 32px;\n",
              "    padding: 0;\n",
              "    width: 32px;\n",
              "  }\n",
              "\n",
              "  .colab-df-quickchart:hover {\n",
              "    background-color: var(--hover-bg-color);\n",
              "    box-shadow: 0 1px 2px rgba(60, 64, 67, 0.3), 0 1px 3px 1px rgba(60, 64, 67, 0.15);\n",
              "    fill: var(--button-hover-fill-color);\n",
              "  }\n",
              "\n",
              "  .colab-df-quickchart-complete:disabled,\n",
              "  .colab-df-quickchart-complete:disabled:hover {\n",
              "    background-color: var(--disabled-bg-color);\n",
              "    fill: var(--disabled-fill-color);\n",
              "    box-shadow: none;\n",
              "  }\n",
              "\n",
              "  .colab-df-spinner {\n",
              "    border: 2px solid var(--fill-color);\n",
              "    border-color: transparent;\n",
              "    border-bottom-color: var(--fill-color);\n",
              "    animation:\n",
              "      spin 1s steps(1) infinite;\n",
              "  }\n",
              "\n",
              "  @keyframes spin {\n",
              "    0% {\n",
              "      border-color: transparent;\n",
              "      border-bottom-color: var(--fill-color);\n",
              "      border-left-color: var(--fill-color);\n",
              "    }\n",
              "    20% {\n",
              "      border-color: transparent;\n",
              "      border-left-color: var(--fill-color);\n",
              "      border-top-color: var(--fill-color);\n",
              "    }\n",
              "    30% {\n",
              "      border-color: transparent;\n",
              "      border-left-color: var(--fill-color);\n",
              "      border-top-color: var(--fill-color);\n",
              "      border-right-color: var(--fill-color);\n",
              "    }\n",
              "    40% {\n",
              "      border-color: transparent;\n",
              "      border-right-color: var(--fill-color);\n",
              "      border-top-color: var(--fill-color);\n",
              "    }\n",
              "    60% {\n",
              "      border-color: transparent;\n",
              "      border-right-color: var(--fill-color);\n",
              "    }\n",
              "    80% {\n",
              "      border-color: transparent;\n",
              "      border-right-color: var(--fill-color);\n",
              "      border-bottom-color: var(--fill-color);\n",
              "    }\n",
              "    90% {\n",
              "      border-color: transparent;\n",
              "      border-bottom-color: var(--fill-color);\n",
              "    }\n",
              "  }\n",
              "</style>\n",
              "\n",
              "      <script>\n",
              "        async function quickchart(key) {\n",
              "          const quickchartButtonEl =\n",
              "            document.querySelector('#' + key + ' button');\n",
              "          quickchartButtonEl.disabled = true;  // To prevent multiple clicks.\n",
              "          quickchartButtonEl.classList.add('colab-df-spinner');\n",
              "          try {\n",
              "            const charts = await google.colab.kernel.invokeFunction(\n",
              "                'suggestCharts', [key], {});\n",
              "          } catch (error) {\n",
              "            console.error('Error during call to suggestCharts:', error);\n",
              "          }\n",
              "          quickchartButtonEl.classList.remove('colab-df-spinner');\n",
              "          quickchartButtonEl.classList.add('colab-df-quickchart-complete');\n",
              "        }\n",
              "        (() => {\n",
              "          let quickchartButtonEl =\n",
              "            document.querySelector('#df-fca369b9-45fa-4dbc-9b70-97eb79dbf121 button');\n",
              "          quickchartButtonEl.style.display =\n",
              "            google.colab.kernel.accessAllowed ? 'block' : 'none';\n",
              "        })();\n",
              "      </script>\n",
              "    </div>\n",
              "\n",
              "    </div>\n",
              "  </div>\n"
            ],
            "application/vnd.google.colaboratory.intrinsic+json": {
              "type": "dataframe",
              "variable_name": "df",
              "summary": "{\n  \"name\": \"df\",\n  \"rows\": 50000,\n  \"fields\": [\n    {\n      \"column\": \"review\",\n      \"properties\": {\n        \"dtype\": \"string\",\n        \"num_unique_values\": 49580,\n        \"samples\": [\n          \"this movie was a modern day scarface it had me on my toes this movie is one of those rare epic films that makes you want a sequel i especially liked damian chapa his performance deserved an academy award which he deserved for his performance in blood in blood out the only thing i didn t like was the behind the scenes because it didn t show the intensity that the movie had and i would have like to have seen less narrated scenes but the movie was great and it is in my top ten movies of all time plus the acting was great there wasn t a bad scene in the movie i loved it  jennifer tilly was perfect as well as all of the cast i can t see how anyone wouldn t like this movie it was a great definitely a must see\",\n          \"this is probably one of the best french movies i had seen in a very long time  this  pastiche  or parody of spy movies is very well made and is going to make you laugh from the beginning to the end  some references to today s world are very subtle  the whole maroccan context of the movie is to be understood in light of today s french culture environment  that said  all the jokes and   seemingly   shocking remarks that could have been understood as such because of this context  are permitted and accepted because this is a parody  i was told by my sisters who had already seen this movie that i should go too and assured me that i was going to have a great time  and indeed i had  if you liked the old 007 movies with sean connery and also like movies like airplane or hot shots  you will be delighted  i just hope this movie is released on dvd in the us    wait and see\",\n          \"giant  is one of the most boring  overly long hollywood contraptions ever  many scenes seem utterly fake and without energy  rock hudson  elizabeth taylor  and james dean are wasted in this big hollywood production  a central notion to this movie  that a rancher would ever resist drilling for oil on his land  is absurd  and i know this because i m from houston  a couple of scenes  especially dean serving taylor coffee  redeem this otherwise boring film  for a much more accurate and interesting depiction about how modernism changed the ranches in texas  see  hud   one of paul newman s great performances  or  the last picture show\"\n        ],\n        \"semantic_type\": \"\",\n        \"description\": \"\"\n      }\n    },\n    {\n      \"column\": \"sentiment\",\n      \"properties\": {\n        \"dtype\": \"category\",\n        \"num_unique_values\": 2,\n        \"samples\": [\n          \"negative\",\n          \"positive\"\n        ],\n        \"semantic_type\": \"\",\n        \"description\": \"\"\n      }\n    }\n  ]\n}"
            }
          },
          "metadata": {},
          "execution_count": 5
        }
      ]
    },
    {
      "cell_type": "code",
      "source": [
        "import nltk\n",
        "nltk.download('stopwords')\n",
        "from nltk.corpus import stopwords\n",
        "def tokenize_and_remove_stopwords(text):\n",
        "  tokens = text.split()\n",
        "  cleaned_tokens = [token for token in tokens if token not in stop_words_set]\n",
        "  return cleaned_tokens\n",
        "english_stopwords_list = stopwords.words('english')\n",
        "print(\"--- First 10 Stopwords from NLTK List ---\")\n",
        "print(english_stopwords_list[:10])\n",
        "print(\"\\n\" + \"=\"*50 + \"\\n\")\n",
        "stop_words_set = set(english_stopwords_list)\n",
        "print(f\"We have successfully loaded {len(stop_words_set)} English stopwords into a highly efficient set.\")\n",
        "df['review'] = df['review'].apply(tokenize_and_remove_stopwords)\n",
        "print(\"DataFrame after tokenization and stopword removal:\")\n",
        "df.head()"
      ],
      "metadata": {
        "colab": {
          "base_uri": "https://localhost:8080/",
          "height": 362
        },
        "id": "62vom_UDwfIw",
        "outputId": "83d3e8ae-780c-4e16-a7fa-66b2e551391f"
      },
      "execution_count": null,
      "outputs": [
        {
          "output_type": "stream",
          "name": "stderr",
          "text": [
            "[nltk_data] Downloading package stopwords to /root/nltk_data...\n",
            "[nltk_data]   Unzipping corpora/stopwords.zip.\n"
          ]
        },
        {
          "output_type": "stream",
          "name": "stdout",
          "text": [
            "--- First 10 Stopwords from NLTK List ---\n",
            "['a', 'about', 'above', 'after', 'again', 'against', 'ain', 'all', 'am', 'an']\n",
            "\n",
            "==================================================\n",
            "\n",
            "We have successfully loaded 198 English stopwords into a highly efficient set.\n",
            "DataFrame after tokenization and stopword removal:\n"
          ]
        },
        {
          "output_type": "execute_result",
          "data": {
            "text/plain": [
              "                                              review sentiment\n",
              "0  [one, reviewers, mentioned, watching, 1, oz, e...  positive\n",
              "1  [wonderful, little, production, filming, techn...  positive\n",
              "2  [thought, wonderful, way, spend, time, hot, su...  positive\n",
              "3  [basically, family, little, boy, jake, thinks,...  negative\n",
              "4  [petter, mattei, love, time, money, visually, ...  positive"
            ],
            "text/html": [
              "\n",
              "  <div id=\"df-b0dd1e64-647e-4c2a-906f-7e587df74b7e\" class=\"colab-df-container\">\n",
              "    <div>\n",
              "<style scoped>\n",
              "    .dataframe tbody tr th:only-of-type {\n",
              "        vertical-align: middle;\n",
              "    }\n",
              "\n",
              "    .dataframe tbody tr th {\n",
              "        vertical-align: top;\n",
              "    }\n",
              "\n",
              "    .dataframe thead th {\n",
              "        text-align: right;\n",
              "    }\n",
              "</style>\n",
              "<table border=\"1\" class=\"dataframe\">\n",
              "  <thead>\n",
              "    <tr style=\"text-align: right;\">\n",
              "      <th></th>\n",
              "      <th>review</th>\n",
              "      <th>sentiment</th>\n",
              "    </tr>\n",
              "  </thead>\n",
              "  <tbody>\n",
              "    <tr>\n",
              "      <th>0</th>\n",
              "      <td>[one, reviewers, mentioned, watching, 1, oz, e...</td>\n",
              "      <td>positive</td>\n",
              "    </tr>\n",
              "    <tr>\n",
              "      <th>1</th>\n",
              "      <td>[wonderful, little, production, filming, techn...</td>\n",
              "      <td>positive</td>\n",
              "    </tr>\n",
              "    <tr>\n",
              "      <th>2</th>\n",
              "      <td>[thought, wonderful, way, spend, time, hot, su...</td>\n",
              "      <td>positive</td>\n",
              "    </tr>\n",
              "    <tr>\n",
              "      <th>3</th>\n",
              "      <td>[basically, family, little, boy, jake, thinks,...</td>\n",
              "      <td>negative</td>\n",
              "    </tr>\n",
              "    <tr>\n",
              "      <th>4</th>\n",
              "      <td>[petter, mattei, love, time, money, visually, ...</td>\n",
              "      <td>positive</td>\n",
              "    </tr>\n",
              "  </tbody>\n",
              "</table>\n",
              "</div>\n",
              "    <div class=\"colab-df-buttons\">\n",
              "\n",
              "  <div class=\"colab-df-container\">\n",
              "    <button class=\"colab-df-convert\" onclick=\"convertToInteractive('df-b0dd1e64-647e-4c2a-906f-7e587df74b7e')\"\n",
              "            title=\"Convert this dataframe to an interactive table.\"\n",
              "            style=\"display:none;\">\n",
              "\n",
              "  <svg xmlns=\"http://www.w3.org/2000/svg\" height=\"24px\" viewBox=\"0 -960 960 960\">\n",
              "    <path d=\"M120-120v-720h720v720H120Zm60-500h600v-160H180v160Zm220 220h160v-160H400v160Zm0 220h160v-160H400v160ZM180-400h160v-160H180v160Zm440 0h160v-160H620v160ZM180-180h160v-160H180v160Zm440 0h160v-160H620v160Z\"/>\n",
              "  </svg>\n",
              "    </button>\n",
              "\n",
              "  <style>\n",
              "    .colab-df-container {\n",
              "      display:flex;\n",
              "      gap: 12px;\n",
              "    }\n",
              "\n",
              "    .colab-df-convert {\n",
              "      background-color: #E8F0FE;\n",
              "      border: none;\n",
              "      border-radius: 50%;\n",
              "      cursor: pointer;\n",
              "      display: none;\n",
              "      fill: #1967D2;\n",
              "      height: 32px;\n",
              "      padding: 0 0 0 0;\n",
              "      width: 32px;\n",
              "    }\n",
              "\n",
              "    .colab-df-convert:hover {\n",
              "      background-color: #E2EBFA;\n",
              "      box-shadow: 0px 1px 2px rgba(60, 64, 67, 0.3), 0px 1px 3px 1px rgba(60, 64, 67, 0.15);\n",
              "      fill: #174EA6;\n",
              "    }\n",
              "\n",
              "    .colab-df-buttons div {\n",
              "      margin-bottom: 4px;\n",
              "    }\n",
              "\n",
              "    [theme=dark] .colab-df-convert {\n",
              "      background-color: #3B4455;\n",
              "      fill: #D2E3FC;\n",
              "    }\n",
              "\n",
              "    [theme=dark] .colab-df-convert:hover {\n",
              "      background-color: #434B5C;\n",
              "      box-shadow: 0px 1px 3px 1px rgba(0, 0, 0, 0.15);\n",
              "      filter: drop-shadow(0px 1px 2px rgba(0, 0, 0, 0.3));\n",
              "      fill: #FFFFFF;\n",
              "    }\n",
              "  </style>\n",
              "\n",
              "    <script>\n",
              "      const buttonEl =\n",
              "        document.querySelector('#df-b0dd1e64-647e-4c2a-906f-7e587df74b7e button.colab-df-convert');\n",
              "      buttonEl.style.display =\n",
              "        google.colab.kernel.accessAllowed ? 'block' : 'none';\n",
              "\n",
              "      async function convertToInteractive(key) {\n",
              "        const element = document.querySelector('#df-b0dd1e64-647e-4c2a-906f-7e587df74b7e');\n",
              "        const dataTable =\n",
              "          await google.colab.kernel.invokeFunction('convertToInteractive',\n",
              "                                                    [key], {});\n",
              "        if (!dataTable) return;\n",
              "\n",
              "        const docLinkHtml = 'Like what you see? Visit the ' +\n",
              "          '<a target=\"_blank\" href=https://colab.research.google.com/notebooks/data_table.ipynb>data table notebook</a>'\n",
              "          + ' to learn more about interactive tables.';\n",
              "        element.innerHTML = '';\n",
              "        dataTable['output_type'] = 'display_data';\n",
              "        await google.colab.output.renderOutput(dataTable, element);\n",
              "        const docLink = document.createElement('div');\n",
              "        docLink.innerHTML = docLinkHtml;\n",
              "        element.appendChild(docLink);\n",
              "      }\n",
              "    </script>\n",
              "  </div>\n",
              "\n",
              "\n",
              "    <div id=\"df-79744927-ae2a-4265-b14b-826e1f3a5c0b\">\n",
              "      <button class=\"colab-df-quickchart\" onclick=\"quickchart('df-79744927-ae2a-4265-b14b-826e1f3a5c0b')\"\n",
              "                title=\"Suggest charts\"\n",
              "                style=\"display:none;\">\n",
              "\n",
              "<svg xmlns=\"http://www.w3.org/2000/svg\" height=\"24px\"viewBox=\"0 0 24 24\"\n",
              "     width=\"24px\">\n",
              "    <g>\n",
              "        <path d=\"M19 3H5c-1.1 0-2 .9-2 2v14c0 1.1.9 2 2 2h14c1.1 0 2-.9 2-2V5c0-1.1-.9-2-2-2zM9 17H7v-7h2v7zm4 0h-2V7h2v10zm4 0h-2v-4h2v4z\"/>\n",
              "    </g>\n",
              "</svg>\n",
              "      </button>\n",
              "\n",
              "<style>\n",
              "  .colab-df-quickchart {\n",
              "      --bg-color: #E8F0FE;\n",
              "      --fill-color: #1967D2;\n",
              "      --hover-bg-color: #E2EBFA;\n",
              "      --hover-fill-color: #174EA6;\n",
              "      --disabled-fill-color: #AAA;\n",
              "      --disabled-bg-color: #DDD;\n",
              "  }\n",
              "\n",
              "  [theme=dark] .colab-df-quickchart {\n",
              "      --bg-color: #3B4455;\n",
              "      --fill-color: #D2E3FC;\n",
              "      --hover-bg-color: #434B5C;\n",
              "      --hover-fill-color: #FFFFFF;\n",
              "      --disabled-bg-color: #3B4455;\n",
              "      --disabled-fill-color: #666;\n",
              "  }\n",
              "\n",
              "  .colab-df-quickchart {\n",
              "    background-color: var(--bg-color);\n",
              "    border: none;\n",
              "    border-radius: 50%;\n",
              "    cursor: pointer;\n",
              "    display: none;\n",
              "    fill: var(--fill-color);\n",
              "    height: 32px;\n",
              "    padding: 0;\n",
              "    width: 32px;\n",
              "  }\n",
              "\n",
              "  .colab-df-quickchart:hover {\n",
              "    background-color: var(--hover-bg-color);\n",
              "    box-shadow: 0 1px 2px rgba(60, 64, 67, 0.3), 0 1px 3px 1px rgba(60, 64, 67, 0.15);\n",
              "    fill: var(--button-hover-fill-color);\n",
              "  }\n",
              "\n",
              "  .colab-df-quickchart-complete:disabled,\n",
              "  .colab-df-quickchart-complete:disabled:hover {\n",
              "    background-color: var(--disabled-bg-color);\n",
              "    fill: var(--disabled-fill-color);\n",
              "    box-shadow: none;\n",
              "  }\n",
              "\n",
              "  .colab-df-spinner {\n",
              "    border: 2px solid var(--fill-color);\n",
              "    border-color: transparent;\n",
              "    border-bottom-color: var(--fill-color);\n",
              "    animation:\n",
              "      spin 1s steps(1) infinite;\n",
              "  }\n",
              "\n",
              "  @keyframes spin {\n",
              "    0% {\n",
              "      border-color: transparent;\n",
              "      border-bottom-color: var(--fill-color);\n",
              "      border-left-color: var(--fill-color);\n",
              "    }\n",
              "    20% {\n",
              "      border-color: transparent;\n",
              "      border-left-color: var(--fill-color);\n",
              "      border-top-color: var(--fill-color);\n",
              "    }\n",
              "    30% {\n",
              "      border-color: transparent;\n",
              "      border-left-color: var(--fill-color);\n",
              "      border-top-color: var(--fill-color);\n",
              "      border-right-color: var(--fill-color);\n",
              "    }\n",
              "    40% {\n",
              "      border-color: transparent;\n",
              "      border-right-color: var(--fill-color);\n",
              "      border-top-color: var(--fill-color);\n",
              "    }\n",
              "    60% {\n",
              "      border-color: transparent;\n",
              "      border-right-color: var(--fill-color);\n",
              "    }\n",
              "    80% {\n",
              "      border-color: transparent;\n",
              "      border-right-color: var(--fill-color);\n",
              "      border-bottom-color: var(--fill-color);\n",
              "    }\n",
              "    90% {\n",
              "      border-color: transparent;\n",
              "      border-bottom-color: var(--fill-color);\n",
              "    }\n",
              "  }\n",
              "</style>\n",
              "\n",
              "      <script>\n",
              "        async function quickchart(key) {\n",
              "          const quickchartButtonEl =\n",
              "            document.querySelector('#' + key + ' button');\n",
              "          quickchartButtonEl.disabled = true;  // To prevent multiple clicks.\n",
              "          quickchartButtonEl.classList.add('colab-df-spinner');\n",
              "          try {\n",
              "            const charts = await google.colab.kernel.invokeFunction(\n",
              "                'suggestCharts', [key], {});\n",
              "          } catch (error) {\n",
              "            console.error('Error during call to suggestCharts:', error);\n",
              "          }\n",
              "          quickchartButtonEl.classList.remove('colab-df-spinner');\n",
              "          quickchartButtonEl.classList.add('colab-df-quickchart-complete');\n",
              "        }\n",
              "        (() => {\n",
              "          let quickchartButtonEl =\n",
              "            document.querySelector('#df-79744927-ae2a-4265-b14b-826e1f3a5c0b button');\n",
              "          quickchartButtonEl.style.display =\n",
              "            google.colab.kernel.accessAllowed ? 'block' : 'none';\n",
              "        })();\n",
              "      </script>\n",
              "    </div>\n",
              "\n",
              "    </div>\n",
              "  </div>\n"
            ],
            "application/vnd.google.colaboratory.intrinsic+json": {
              "type": "dataframe",
              "variable_name": "df",
              "summary": "{\n  \"name\": \"df\",\n  \"rows\": 50000,\n  \"fields\": [\n    {\n      \"column\": \"review\",\n      \"properties\": {\n        \"dtype\": \"object\",\n        \"semantic_type\": \"\",\n        \"description\": \"\"\n      }\n    },\n    {\n      \"column\": \"sentiment\",\n      \"properties\": {\n        \"dtype\": \"category\",\n        \"num_unique_values\": 2,\n        \"samples\": [\n          \"negative\",\n          \"positive\"\n        ],\n        \"semantic_type\": \"\",\n        \"description\": \"\"\n      }\n    }\n  ]\n}"
            }
          },
          "metadata": {},
          "execution_count": 6
        }
      ]
    },
    {
      "cell_type": "code",
      "source": [
        "import nltk\n",
        "nltk.download('wordnet')\n",
        "from nltk.stem import WordNetLemmatizer\n",
        "lemmatizer = WordNetLemmatizer()\n",
        "\n",
        "def lemmatize_tokens(tokens):\n",
        "  lemmatized_tokens = [lemmatizer.lemmatize(token) for token in tokens]\n",
        "  return lemmatized_tokens\n",
        "\n",
        "def join_tokens(tokens):\n",
        "  return ' '.join(tokens)\n",
        "\n",
        "df['review_tokens'] = df['review'].apply(lemmatize_tokens)\n",
        "\n",
        "df['cleaned_review'] = df['review_tokens'].apply(join_tokens)\n",
        "print(\"DataFrame after final cleaning and rejoining tokens:\")\n",
        "df[['review', 'cleaned_review', 'sentiment']].head()"
      ],
      "metadata": {
        "id": "E9trmS0RGEik",
        "colab": {
          "base_uri": "https://localhost:8080/",
          "height": 327
        },
        "outputId": "8c2ea789-7f5c-4b41-af8f-2ffc6465527d"
      },
      "execution_count": null,
      "outputs": [
        {
          "output_type": "stream",
          "name": "stderr",
          "text": [
            "[nltk_data] Downloading package wordnet to /root/nltk_data...\n"
          ]
        },
        {
          "output_type": "stream",
          "name": "stdout",
          "text": [
            "DataFrame after final cleaning and rejoining tokens:\n"
          ]
        },
        {
          "output_type": "execute_result",
          "data": {
            "text/plain": [
              "                                              review  \\\n",
              "0  [one, reviewers, mentioned, watching, 1, oz, e...   \n",
              "1  [wonderful, little, production, filming, techn...   \n",
              "2  [thought, wonderful, way, spend, time, hot, su...   \n",
              "3  [basically, family, little, boy, jake, thinks,...   \n",
              "4  [petter, mattei, love, time, money, visually, ...   \n",
              "\n",
              "                                      cleaned_review sentiment  \n",
              "0  one reviewer mentioned watching 1 oz episode h...  positive  \n",
              "1  wonderful little production filming technique ...  positive  \n",
              "2  thought wonderful way spend time hot summer we...  positive  \n",
              "3  basically family little boy jake think zombie ...  negative  \n",
              "4  petter mattei love time money visually stunnin...  positive  "
            ],
            "text/html": [
              "\n",
              "  <div id=\"df-efaf13f1-fbd9-4c7c-b275-2cda1c155f13\" class=\"colab-df-container\">\n",
              "    <div>\n",
              "<style scoped>\n",
              "    .dataframe tbody tr th:only-of-type {\n",
              "        vertical-align: middle;\n",
              "    }\n",
              "\n",
              "    .dataframe tbody tr th {\n",
              "        vertical-align: top;\n",
              "    }\n",
              "\n",
              "    .dataframe thead th {\n",
              "        text-align: right;\n",
              "    }\n",
              "</style>\n",
              "<table border=\"1\" class=\"dataframe\">\n",
              "  <thead>\n",
              "    <tr style=\"text-align: right;\">\n",
              "      <th></th>\n",
              "      <th>review</th>\n",
              "      <th>cleaned_review</th>\n",
              "      <th>sentiment</th>\n",
              "    </tr>\n",
              "  </thead>\n",
              "  <tbody>\n",
              "    <tr>\n",
              "      <th>0</th>\n",
              "      <td>[one, reviewers, mentioned, watching, 1, oz, e...</td>\n",
              "      <td>one reviewer mentioned watching 1 oz episode h...</td>\n",
              "      <td>positive</td>\n",
              "    </tr>\n",
              "    <tr>\n",
              "      <th>1</th>\n",
              "      <td>[wonderful, little, production, filming, techn...</td>\n",
              "      <td>wonderful little production filming technique ...</td>\n",
              "      <td>positive</td>\n",
              "    </tr>\n",
              "    <tr>\n",
              "      <th>2</th>\n",
              "      <td>[thought, wonderful, way, spend, time, hot, su...</td>\n",
              "      <td>thought wonderful way spend time hot summer we...</td>\n",
              "      <td>positive</td>\n",
              "    </tr>\n",
              "    <tr>\n",
              "      <th>3</th>\n",
              "      <td>[basically, family, little, boy, jake, thinks,...</td>\n",
              "      <td>basically family little boy jake think zombie ...</td>\n",
              "      <td>negative</td>\n",
              "    </tr>\n",
              "    <tr>\n",
              "      <th>4</th>\n",
              "      <td>[petter, mattei, love, time, money, visually, ...</td>\n",
              "      <td>petter mattei love time money visually stunnin...</td>\n",
              "      <td>positive</td>\n",
              "    </tr>\n",
              "  </tbody>\n",
              "</table>\n",
              "</div>\n",
              "    <div class=\"colab-df-buttons\">\n",
              "\n",
              "  <div class=\"colab-df-container\">\n",
              "    <button class=\"colab-df-convert\" onclick=\"convertToInteractive('df-efaf13f1-fbd9-4c7c-b275-2cda1c155f13')\"\n",
              "            title=\"Convert this dataframe to an interactive table.\"\n",
              "            style=\"display:none;\">\n",
              "\n",
              "  <svg xmlns=\"http://www.w3.org/2000/svg\" height=\"24px\" viewBox=\"0 -960 960 960\">\n",
              "    <path d=\"M120-120v-720h720v720H120Zm60-500h600v-160H180v160Zm220 220h160v-160H400v160Zm0 220h160v-160H400v160ZM180-400h160v-160H180v160Zm440 0h160v-160H620v160ZM180-180h160v-160H180v160Zm440 0h160v-160H620v160Z\"/>\n",
              "  </svg>\n",
              "    </button>\n",
              "\n",
              "  <style>\n",
              "    .colab-df-container {\n",
              "      display:flex;\n",
              "      gap: 12px;\n",
              "    }\n",
              "\n",
              "    .colab-df-convert {\n",
              "      background-color: #E8F0FE;\n",
              "      border: none;\n",
              "      border-radius: 50%;\n",
              "      cursor: pointer;\n",
              "      display: none;\n",
              "      fill: #1967D2;\n",
              "      height: 32px;\n",
              "      padding: 0 0 0 0;\n",
              "      width: 32px;\n",
              "    }\n",
              "\n",
              "    .colab-df-convert:hover {\n",
              "      background-color: #E2EBFA;\n",
              "      box-shadow: 0px 1px 2px rgba(60, 64, 67, 0.3), 0px 1px 3px 1px rgba(60, 64, 67, 0.15);\n",
              "      fill: #174EA6;\n",
              "    }\n",
              "\n",
              "    .colab-df-buttons div {\n",
              "      margin-bottom: 4px;\n",
              "    }\n",
              "\n",
              "    [theme=dark] .colab-df-convert {\n",
              "      background-color: #3B4455;\n",
              "      fill: #D2E3FC;\n",
              "    }\n",
              "\n",
              "    [theme=dark] .colab-df-convert:hover {\n",
              "      background-color: #434B5C;\n",
              "      box-shadow: 0px 1px 3px 1px rgba(0, 0, 0, 0.15);\n",
              "      filter: drop-shadow(0px 1px 2px rgba(0, 0, 0, 0.3));\n",
              "      fill: #FFFFFF;\n",
              "    }\n",
              "  </style>\n",
              "\n",
              "    <script>\n",
              "      const buttonEl =\n",
              "        document.querySelector('#df-efaf13f1-fbd9-4c7c-b275-2cda1c155f13 button.colab-df-convert');\n",
              "      buttonEl.style.display =\n",
              "        google.colab.kernel.accessAllowed ? 'block' : 'none';\n",
              "\n",
              "      async function convertToInteractive(key) {\n",
              "        const element = document.querySelector('#df-efaf13f1-fbd9-4c7c-b275-2cda1c155f13');\n",
              "        const dataTable =\n",
              "          await google.colab.kernel.invokeFunction('convertToInteractive',\n",
              "                                                    [key], {});\n",
              "        if (!dataTable) return;\n",
              "\n",
              "        const docLinkHtml = 'Like what you see? Visit the ' +\n",
              "          '<a target=\"_blank\" href=https://colab.research.google.com/notebooks/data_table.ipynb>data table notebook</a>'\n",
              "          + ' to learn more about interactive tables.';\n",
              "        element.innerHTML = '';\n",
              "        dataTable['output_type'] = 'display_data';\n",
              "        await google.colab.output.renderOutput(dataTable, element);\n",
              "        const docLink = document.createElement('div');\n",
              "        docLink.innerHTML = docLinkHtml;\n",
              "        element.appendChild(docLink);\n",
              "      }\n",
              "    </script>\n",
              "  </div>\n",
              "\n",
              "\n",
              "    <div id=\"df-5ef1e794-90b8-491e-a55b-4e3a0eac2f80\">\n",
              "      <button class=\"colab-df-quickchart\" onclick=\"quickchart('df-5ef1e794-90b8-491e-a55b-4e3a0eac2f80')\"\n",
              "                title=\"Suggest charts\"\n",
              "                style=\"display:none;\">\n",
              "\n",
              "<svg xmlns=\"http://www.w3.org/2000/svg\" height=\"24px\"viewBox=\"0 0 24 24\"\n",
              "     width=\"24px\">\n",
              "    <g>\n",
              "        <path d=\"M19 3H5c-1.1 0-2 .9-2 2v14c0 1.1.9 2 2 2h14c1.1 0 2-.9 2-2V5c0-1.1-.9-2-2-2zM9 17H7v-7h2v7zm4 0h-2V7h2v10zm4 0h-2v-4h2v4z\"/>\n",
              "    </g>\n",
              "</svg>\n",
              "      </button>\n",
              "\n",
              "<style>\n",
              "  .colab-df-quickchart {\n",
              "      --bg-color: #E8F0FE;\n",
              "      --fill-color: #1967D2;\n",
              "      --hover-bg-color: #E2EBFA;\n",
              "      --hover-fill-color: #174EA6;\n",
              "      --disabled-fill-color: #AAA;\n",
              "      --disabled-bg-color: #DDD;\n",
              "  }\n",
              "\n",
              "  [theme=dark] .colab-df-quickchart {\n",
              "      --bg-color: #3B4455;\n",
              "      --fill-color: #D2E3FC;\n",
              "      --hover-bg-color: #434B5C;\n",
              "      --hover-fill-color: #FFFFFF;\n",
              "      --disabled-bg-color: #3B4455;\n",
              "      --disabled-fill-color: #666;\n",
              "  }\n",
              "\n",
              "  .colab-df-quickchart {\n",
              "    background-color: var(--bg-color);\n",
              "    border: none;\n",
              "    border-radius: 50%;\n",
              "    cursor: pointer;\n",
              "    display: none;\n",
              "    fill: var(--fill-color);\n",
              "    height: 32px;\n",
              "    padding: 0;\n",
              "    width: 32px;\n",
              "  }\n",
              "\n",
              "  .colab-df-quickchart:hover {\n",
              "    background-color: var(--hover-bg-color);\n",
              "    box-shadow: 0 1px 2px rgba(60, 64, 67, 0.3), 0 1px 3px 1px rgba(60, 64, 67, 0.15);\n",
              "    fill: var(--button-hover-fill-color);\n",
              "  }\n",
              "\n",
              "  .colab-df-quickchart-complete:disabled,\n",
              "  .colab-df-quickchart-complete:disabled:hover {\n",
              "    background-color: var(--disabled-bg-color);\n",
              "    fill: var(--disabled-fill-color);\n",
              "    box-shadow: none;\n",
              "  }\n",
              "\n",
              "  .colab-df-spinner {\n",
              "    border: 2px solid var(--fill-color);\n",
              "    border-color: transparent;\n",
              "    border-bottom-color: var(--fill-color);\n",
              "    animation:\n",
              "      spin 1s steps(1) infinite;\n",
              "  }\n",
              "\n",
              "  @keyframes spin {\n",
              "    0% {\n",
              "      border-color: transparent;\n",
              "      border-bottom-color: var(--fill-color);\n",
              "      border-left-color: var(--fill-color);\n",
              "    }\n",
              "    20% {\n",
              "      border-color: transparent;\n",
              "      border-left-color: var(--fill-color);\n",
              "      border-top-color: var(--fill-color);\n",
              "    }\n",
              "    30% {\n",
              "      border-color: transparent;\n",
              "      border-left-color: var(--fill-color);\n",
              "      border-top-color: var(--fill-color);\n",
              "      border-right-color: var(--fill-color);\n",
              "    }\n",
              "    40% {\n",
              "      border-color: transparent;\n",
              "      border-right-color: var(--fill-color);\n",
              "      border-top-color: var(--fill-color);\n",
              "    }\n",
              "    60% {\n",
              "      border-color: transparent;\n",
              "      border-right-color: var(--fill-color);\n",
              "    }\n",
              "    80% {\n",
              "      border-color: transparent;\n",
              "      border-right-color: var(--fill-color);\n",
              "      border-bottom-color: var(--fill-color);\n",
              "    }\n",
              "    90% {\n",
              "      border-color: transparent;\n",
              "      border-bottom-color: var(--fill-color);\n",
              "    }\n",
              "  }\n",
              "</style>\n",
              "\n",
              "      <script>\n",
              "        async function quickchart(key) {\n",
              "          const quickchartButtonEl =\n",
              "            document.querySelector('#' + key + ' button');\n",
              "          quickchartButtonEl.disabled = true;  // To prevent multiple clicks.\n",
              "          quickchartButtonEl.classList.add('colab-df-spinner');\n",
              "          try {\n",
              "            const charts = await google.colab.kernel.invokeFunction(\n",
              "                'suggestCharts', [key], {});\n",
              "          } catch (error) {\n",
              "            console.error('Error during call to suggestCharts:', error);\n",
              "          }\n",
              "          quickchartButtonEl.classList.remove('colab-df-spinner');\n",
              "          quickchartButtonEl.classList.add('colab-df-quickchart-complete');\n",
              "        }\n",
              "        (() => {\n",
              "          let quickchartButtonEl =\n",
              "            document.querySelector('#df-5ef1e794-90b8-491e-a55b-4e3a0eac2f80 button');\n",
              "          quickchartButtonEl.style.display =\n",
              "            google.colab.kernel.accessAllowed ? 'block' : 'none';\n",
              "        })();\n",
              "      </script>\n",
              "    </div>\n",
              "\n",
              "    </div>\n",
              "  </div>\n"
            ],
            "application/vnd.google.colaboratory.intrinsic+json": {
              "type": "dataframe",
              "summary": "{\n  \"name\": \"df[['review', 'cleaned_review', 'sentiment']]\",\n  \"rows\": 5,\n  \"fields\": [\n    {\n      \"column\": \"review\",\n      \"properties\": {\n        \"dtype\": \"object\",\n        \"semantic_type\": \"\",\n        \"description\": \"\"\n      }\n    },\n    {\n      \"column\": \"cleaned_review\",\n      \"properties\": {\n        \"dtype\": \"string\",\n        \"num_unique_values\": 5,\n        \"samples\": [\n          \"wonderful little production filming technique unassuming old time bbc fashion give comforting sometimes discomforting sense realism entire piece actor extremely well chosen michael sheen got polari voice pat truly see seamless editing guided reference williams diary entry well worth watching terrificly written performed piece masterful production one great master comedy life realism really come home little thing fantasy guard rather use traditional dream technique remains solid disappears play knowledge sens particularly scene concerning orton halliwell set particularly flat halliwell mural decorating every surface terribly well done\",\n          \"petter mattei love time money visually stunning film watch mr mattei offer u vivid portrait human relation movie seems telling u money power success people different situation encounter variation arthur schnitzler play theme director transfer action present time new york different character meet connect one connected one way another next person one seems know previous point contact stylishly film sophisticated luxurious look taken see people live world live habitat thing one get soul picture different stage loneliness one inhabits big city exactly best place human relation find sincere fulfillment one discerns case people encounter acting good mr mattei direction steve buscemi rosario dawson carol kane michael imperioli adrian grenier rest talented cast make character come alive wish mr mattei good luck await anxiously next work\",\n          \"thought wonderful way spend time hot summer weekend sitting air conditioned theater watching light hearted comedy plot simplistic dialogue witty character likable even well bread suspected serial killer may disappointed realize match point 2 risk addiction thought proof woody allen still fully control style many u grown love laughed one woody comedy year dare say decade never impressed scarlet johanson managed tone sexy image jumped right average spirited young woman may crown jewel career wittier devil wear prada interesting superman great comedy go see friend\"\n        ],\n        \"semantic_type\": \"\",\n        \"description\": \"\"\n      }\n    },\n    {\n      \"column\": \"sentiment\",\n      \"properties\": {\n        \"dtype\": \"category\",\n        \"num_unique_values\": 2,\n        \"samples\": [\n          \"negative\",\n          \"positive\"\n        ],\n        \"semantic_type\": \"\",\n        \"description\": \"\"\n      }\n    }\n  ]\n}"
            }
          },
          "metadata": {},
          "execution_count": 7
        }
      ]
    },
    {
      "cell_type": "code",
      "source": [
        "X = df['cleaned_review']\n",
        "y = df['sentiment']\n",
        "from sklearn.model_selection import train_test_split\n",
        "# test_size=0.2: Specifies that we want 20% of the data for the test set, and 80% for the training set.\n",
        "# random_state=42: This ensures that the random split is the same every time we run the code, making our results reproducible.\n",
        "# stratify=y: This is crucial for classification. It ensures that the proportion of positive and negative reviews\n",
        "#              is the same in both the training and testing sets as it is in the original dataset.\n",
        "X_train, X_test, y_train, y_test = train_test_split(X, y,\n",
        "                                                    test_size=0.2,\n",
        "                                                    random_state=42,\n",
        "                                                    stratify=y)\n",
        "from sklearn.feature_extraction.text import TfidfVectorizer\n",
        "#We are configuring it with a very important hyperparameter: max_features.\n",
        "# max_features=10000: This instructs the vectorizer to build a vocabulary consisting of\n",
        "# only the top 10,000 most frequently occurring words from the training data.\n",
        "# This is a crucial step for a few reasons:\n",
        "# 1. It dramatically reduces the number of features (columns) in our final matrix,\n",
        "#    saving memory and speeding up model training.\n",
        "# 2. It helps to reduce noise by ignoring extremely rare words (like typos or obscure names)\n",
        "#    that are unlikely to be useful for generalization.\n",
        "# 3. It helps prevent the model from overfitting on the training data.\n",
        "tfidf_vectorizer = TfidfVectorizer(max_features=10000)\n",
        "# The .fit_transform() method is a crucial two-in-one operation:\n",
        "# 1. fit(): The vectorizer learns the vocabulary from the documents in X_train\n",
        "#    and calculates the IDF (Inverse Document Frequency) for each word.\n",
        "#    Because we set max_features=10000, this vocabulary will be the top 10,000 words.\n",
        "# 2. transform(): Using the learned vocabulary and IDF values, it converts each\n",
        "#    review in X_train into a numerical vector of TF-IDF scores.\n",
        "#\n",
        "# This method should ONLY be used on the training data.\n",
        "X_train_tfidf = tfidf_vectorizer.fit_transform(X_train)\n",
        "#This step takes the raw text in X_test and converts it into a numerical matrix\n",
        "# using the vocabulary and IDF weights learned from X_train.\n",
        "X_test_tfidf = tfidf_vectorizer.transform(X_test)\n",
        "# First, let's check the shape of our training data matrix.\n",
        "print(\"Shape of the TF-IDF training data matrix (X_train_tfidf):\", X_train_tfidf.shape)\n",
        "\n",
        "# Next, we check the shape of our testing data matrix.\n",
        "print(\"Shape of the TF-IDF testing data matrix (X_test_tfidf):\", X_test_tfidf.shape)"
      ],
      "metadata": {
        "colab": {
          "base_uri": "https://localhost:8080/"
        },
        "id": "Ia6k1HbENE2O",
        "outputId": "cf7c0662-62da-4ccd-9ad1-6fd3d343be0a"
      },
      "execution_count": null,
      "outputs": [
        {
          "output_type": "stream",
          "name": "stdout",
          "text": [
            "Shape of the TF-IDF training data matrix (X_train_tfidf): (40000, 10000)\n",
            "Shape of the TF-IDF testing data matrix (X_test_tfidf): (10000, 10000)\n"
          ]
        }
      ]
    },
    {
      "cell_type": "code",
      "source": [
        "from sklearn.linear_model import LogisticRegression\n",
        "# We are now creating an instance of the LogisticRegression class that we imported.\n",
        "# This object, which we'll name 'lr_model', is our actual model.\n",
        "# We are setting the 'random_state=42' hyperparameter. This is a crucial best practice\n",
        "# that ensures the results of our model training are reproducible. If the model's\n",
        "# optimization algorithm involves any random steps, this seed will ensure those\n",
        "# steps are the same every time the code is run.\n",
        "# For our baseline, we will leave all other hyperparameters at their default values,\n",
        "# which are generally robust and well-chosen in Scikit-learn.\n",
        "lr_model = LogisticRegression(random_state=42)\n",
        "# During this process, the model learns the optimal coefficients for each of the 10,000\n",
        "# features (words) to best map the input text features to the output sentiment labels.\n",
        "# After this line runs, the 'lr_model' object will be \"fitted\" or \"trained\".\n",
        "lr_model.fit(X_train_tfidf, y_train)\n",
        "# We call the .predict() method on the model object.\n",
        "# The only argument we pass is the data we want to make predictions on, which is\n",
        "# our unseen test set's feature matrix: 'X_test_tfidf'.\n",
        "# The model will apply its learned knowledge (the coefficients) to each review in the test set\n",
        "# and output a predicted label ('positive' or 'negative') for each one.\n",
        "y_pred = lr_model.predict(X_test_tfidf)\n",
        "# To get a sense of how the model is doing, we can compare its predictions\n",
        "# to the actual true labels from the test set ('y_test').\n",
        "# Note: .values is used to get the NumPy array from the Pandas Series for a clean side-by-side view.\n",
        "print(\"\\n\" + \"=\"*50 + \"\\n\")\n",
        "print(\"Comparison of first 5 Predictions vs. Actual Labels:\")\n",
        "print(\"Predictions:\", y_pred[:5])\n",
        "print(\"Actuals:    \", y_test.values[:5])"
      ],
      "metadata": {
        "id": "tGzk3WqVSqd0",
        "colab": {
          "base_uri": "https://localhost:8080/"
        },
        "outputId": "b1e6b0a0-8bbe-4447-d8c7-6d3725b61729"
      },
      "execution_count": null,
      "outputs": [
        {
          "output_type": "stream",
          "name": "stdout",
          "text": [
            "\n",
            "==================================================\n",
            "\n",
            "Comparison of first 5 Predictions vs. Actual Labels:\n",
            "Predictions: ['negative' 'negative' 'positive' 'negative' 'negative']\n",
            "Actuals:     ['negative' 'negative' 'positive' 'negative' 'negative']\n"
          ]
        }
      ]
    },
    {
      "cell_type": "code",
      "source": [
        "#We are importing two key functions:\n",
        "# 1. classification_report: This will give us a text summary of the main classification\n",
        "#    metrics, including precision, recall, and F1-score for each class.\n",
        "# 2. confusion_matrix: This will compute a matrix that allows us to see the breakdown\n",
        "#    of our model's correct and incorrect predictions (True Positives, False Positives, etc.).\n",
        "from sklearn.metrics import classification_report, confusion_matrix\n",
        "report = classification_report(y_test, y_pred)\n",
        "print(report)\n",
        "# It takes the true labels (y_test) and the model's predictions (y_pred) as input.\n",
        "cm = confusion_matrix(y_test, y_pred)\n",
        "\n",
        "# Let's print the resulting matrix to see the raw counts.\n",
        "# The output will be a 2x2 NumPy array.\n",
        "print(\"Confusion Matrix:\")\n",
        "print(cm)"
      ],
      "metadata": {
        "id": "OxF2OiK-aRAd",
        "colab": {
          "base_uri": "https://localhost:8080/"
        },
        "outputId": "d59b3e26-2f5c-4fc7-f581-7cf049211a76"
      },
      "execution_count": null,
      "outputs": [
        {
          "output_type": "stream",
          "name": "stdout",
          "text": [
            "              precision    recall  f1-score   support\n",
            "\n",
            "    negative       0.90      0.88      0.89      5000\n",
            "    positive       0.89      0.91      0.90      5000\n",
            "\n",
            "    accuracy                           0.89     10000\n",
            "   macro avg       0.89      0.89      0.89     10000\n",
            "weighted avg       0.89      0.89      0.89     10000\n",
            "\n",
            "Confusion Matrix:\n",
            "[[4417  583]\n",
            " [ 474 4526]]\n"
          ]
        }
      ]
    },
    {
      "cell_type": "code",
      "source": [
        "# We will use 'joblib', which is highly efficient for Scikit-learn objects because it's\n",
        "# optimized for large NumPy arrays. Importing the library is the first step.\n",
        "import joblib\n",
        "# We define the filename where we want to save our model.\n",
        "# Using the '.pkl' extension is a standard convention for pickled/serialized Python objects.\n",
        "model_filename = 'lr_model.pkl'\n",
        "# Argument 1: The Python object we want to save (our trained 'lr_model').\n",
        "# Argument 2: The path/filename to save it to.\n",
        "# This function will take the lr_model object, convert it into a byte stream,\n",
        "# and write those bytes to the 'lr_model.pkl' file in your project directory.\n",
        "joblib.dump(lr_model, model_filename)\n",
        "# Define the filename where we want to save our fitted TF-IDF vectorizer.\n",
        "vectorizer_filename = 'tfidf_vectorizer.pkl'\n",
        "\n",
        "# Serialize and save the fitted tfidf_vectorizer object to the .pkl file.\n",
        "joblib.dump(tfidf_vectorizer, vectorizer_filename)\n",
        "\n",
        "# Confirmation message\n",
        "print(f\"Vectorizer saved successfully to '{vectorizer_filename}'\")"
      ],
      "metadata": {
        "colab": {
          "base_uri": "https://localhost:8080/"
        },
        "id": "cxQBNSovcsaH",
        "outputId": "21cce91c-7bb3-4ddd-d2b1-151a75e87683"
      },
      "execution_count": null,
      "outputs": [
        {
          "output_type": "stream",
          "name": "stdout",
          "text": [
            "Vectorizer saved successfully to 'tfidf_vectorizer.pkl'\n"
          ]
        }
      ]
    },
    {
      "cell_type": "code",
      "source": [
        "# The Tokenizer class from Keras is designed for this exact purpose.\n",
        "# It lives within the 'tensorflow.keras.preprocessing.text' module.\n",
        "# tensorflow: The main deep learning library.\n",
        "# keras: The high-level, user-friendly API for building models in TensorFlow.\n",
        "# preprocessing: A module containing data preparation utilities.\n",
        "# text: The sub-module with tools specifically for text data.\n",
        "from tensorflow.keras.preprocessing.text import Tokenizer\n",
        "# To solve the problem of variable-length sequences, we need a tool to make them all uniform.\n",
        "# The `pad_sequences` function is Keras's dedicated utility for this task.\n",
        "# It is located in the 'tensorflow.keras.preprocessing.sequence' module, as it is a fundamental\n",
        "# step for preparing sequential data for deep learning models.\n",
        "from tensorflow.keras.preprocessing.sequence import pad_sequences\n",
        "from tensorflow.keras.models import Sequential\n",
        "# - Embedding: The first layer in our network. It will convert integer-encoded text\n",
        "#              into dense vectors of fixed size, learning word similarities.\n",
        "# - LSTM: The Long Short-Term Memory layer. This is our recurrent layer, designed\n",
        "#         to process sequences and learn from context and word order.\n",
        "# - Dense: A standard, fully-connected neural network layer. We will use this\n",
        "#          as our final output layer to make the sentiment prediction.\n",
        "from tensorflow.keras.layers import Embedding, LSTM, Dense\n",
        "VOCAB_SIZE=10000\n",
        "# The `oov_token=\"<OOV>\"` part is a best practice. It creates a special token for any\n",
        "# words that are not found in the tokenizer's vocabulary (i.e., words that are not\n",
        "# among the top 10,000 most frequent). This prevents errors during the transformation step.\n",
        "tokenizer = Tokenizer(num_words=VOCAB_SIZE, oov_token=\"<OOV>\")\n",
        "tokenizer.fit_on_texts(X_train)\n",
        "# 1. Convert the training text to sequences\n",
        "# It will take each review in X_train, look up each word in its learned 'word_index',\n",
        "# and replace it with the corresponding integer.\n",
        "X_train_sequences = tokenizer.texts_to_sequences(X_train)\n",
        "# 2. Convert the testing text to sequences\n",
        "X_test_sequences = tokenizer.texts_to_sequences(X_test)\n",
        "MAX_LEN = 200\n",
        "# X_train_sequences: The list of integer sequences we want to pad.\n",
        "# maxlen=MAX_LEN: This ensures every sequence will be exactly 200 integers long.\n",
        "# padding='post': This specifies that padding (zeros) should be added to the *end* of shorter sequences.\n",
        "# truncating='post': This specifies that for longer sequences, values should be removed from the *end*.\n",
        "#\n",
        "# The result is a NumPy array where each row has the same length.\n",
        "X_train_padded = pad_sequences(X_train_sequences, maxlen=MAX_LEN, padding='post', truncating='post')\n",
        "X_test_padded = pad_sequences(X_test_sequences, maxlen=MAX_LEN, padding='post', truncating='post')\n",
        "label_mapping = {'positive': 1, 'negative': 0}\n",
        "# We use the .map() method from Pandas to apply this transformation.\n",
        "y_train_final = y_train.map(label_mapping)\n",
        "y_test_final = y_test.map(label_mapping)"
      ],
      "metadata": {
        "id": "-ymSDI0zkOt7"
      },
      "execution_count": null,
      "outputs": []
    },
    {
      "cell_type": "code",
      "source": [
        "# Let's also define the dimensionality for our word embeddings and LSTM units.\n",
        "EMBEDDING_DIM = 128\n",
        "LSTM_UNITS = 64\n",
        "\n",
        "# 1. Initialize the Sequential model\n",
        "# This creates an empty, linear stack of layers to which we will add our components.\n",
        "model = Sequential()\n",
        "# 2. Add the Embedding Layer\n",
        "# This is the first layer of our network. It's responsible for turning our integer-encoded\n",
        "# reviews into dense vectors of a fixed size.\n",
        "# - input_dim=VOCAB_SIZE: The size of our vocabulary (10,000). This tells the layer how many\n",
        "#   unique word vectors it needs to learn.\n",
        "# - output_dim=EMBEDDING_DIM: The dimension of the dense embedding for each word. Each word will\n",
        "#   be represented by a 128-dimensional vector.\n",
        "# - input_length=MAX_LEN: The length of our input sequences (200). This tells the layer\n",
        "#   what size input to expect.\n",
        "model.add(Embedding(input_dim=VOCAB_SIZE, output_dim=EMBEDDING_DIM, input_length=MAX_LEN))\n",
        "# 3. Add the LSTM Layer\n",
        "# This is the heart of our model. It processes the sequence of word vectors from the\n",
        "# Embedding layer to learn context and sequential patterns.\n",
        "# - units=LSTM_UNITS: The number of LSTM units in the layer (64). This is a key\n",
        "#   hyperparameter that defines the representational capacity of the layer.\n",
        "# - dropout=0.2: A regularization technique. During training, it will randomly set 20% of\n",
        "#   the input units to 0 at each update step, which helps prevent overfitting.\n",
        "# - recurrent_dropout=0.2: Another regularization technique, applied to the connections\n",
        "#   between recurrent steps. It also helps prevent overfitting, which is common in LSTMs.\n",
        "model.add(LSTM(units=LSTM_UNITS, dropout=0.2, recurrent_dropout=0.2))\n",
        "# 4. Add the Dense Output Layer\n",
        "# This is the final layer that makes the prediction. It takes the output from the LSTM\n",
        "# layer and produces the final probability.\n",
        "# - units=1: We want a single output neuron because this is a binary classification\n",
        "#   (positive/negative). This neuron's output will be our prediction.\n",
        "# - activation='sigmoid': This is the crucial activation function for binary classification.\n",
        "#   It squashes the output of the neuron into a value between 0 and 1, which we can\n",
        "#   interpret as the probability of the review being 'positive'.\n",
        "model.add(Dense(units=1, activation='sigmoid'))\n",
        "\n",
        "# Now that the model is defined, let's look at its structure.\n",
        "# The .summary() method provides a clean, tabular view of our model's architecture,\n",
        "# including the output shape and number of trainable parameters for each layer.\n",
        "model.summary()"
      ],
      "metadata": {
        "id": "OrCz7VJUm681",
        "colab": {
          "base_uri": "https://localhost:8080/",
          "height": 280
        },
        "outputId": "78a1c0a7-3205-4612-bbca-591499a69ba3"
      },
      "execution_count": null,
      "outputs": [
        {
          "output_type": "stream",
          "name": "stderr",
          "text": [
            "/usr/local/lib/python3.12/dist-packages/keras/src/layers/core/embedding.py:97: UserWarning: Argument `input_length` is deprecated. Just remove it.\n",
            "  warnings.warn(\n"
          ]
        },
        {
          "output_type": "display_data",
          "data": {
            "text/plain": [
              "\u001b[1mModel: \"sequential\"\u001b[0m\n"
            ],
            "text/html": [
              "<pre style=\"white-space:pre;overflow-x:auto;line-height:normal;font-family:Menlo,'DejaVu Sans Mono',consolas,'Courier New',monospace\"><span style=\"font-weight: bold\">Model: \"sequential\"</span>\n",
              "</pre>\n"
            ]
          },
          "metadata": {}
        },
        {
          "output_type": "display_data",
          "data": {
            "text/plain": [
              "┏━━━━━━━━━━━━━━━━━━━━━━━━━━━━━━━━━┳━━━━━━━━━━━━━━━━━━━━━━━━┳━━━━━━━━━━━━━━━┓\n",
              "┃\u001b[1m \u001b[0m\u001b[1mLayer (type)                   \u001b[0m\u001b[1m \u001b[0m┃\u001b[1m \u001b[0m\u001b[1mOutput Shape          \u001b[0m\u001b[1m \u001b[0m┃\u001b[1m \u001b[0m\u001b[1m      Param #\u001b[0m\u001b[1m \u001b[0m┃\n",
              "┡━━━━━━━━━━━━━━━━━━━━━━━━━━━━━━━━━╇━━━━━━━━━━━━━━━━━━━━━━━━╇━━━━━━━━━━━━━━━┩\n",
              "│ embedding (\u001b[38;5;33mEmbedding\u001b[0m)           │ ?                      │   \u001b[38;5;34m0\u001b[0m (unbuilt) │\n",
              "├─────────────────────────────────┼────────────────────────┼───────────────┤\n",
              "│ lstm (\u001b[38;5;33mLSTM\u001b[0m)                     │ ?                      │   \u001b[38;5;34m0\u001b[0m (unbuilt) │\n",
              "├─────────────────────────────────┼────────────────────────┼───────────────┤\n",
              "│ dense (\u001b[38;5;33mDense\u001b[0m)                   │ ?                      │   \u001b[38;5;34m0\u001b[0m (unbuilt) │\n",
              "└─────────────────────────────────┴────────────────────────┴───────────────┘\n"
            ],
            "text/html": [
              "<pre style=\"white-space:pre;overflow-x:auto;line-height:normal;font-family:Menlo,'DejaVu Sans Mono',consolas,'Courier New',monospace\">┏━━━━━━━━━━━━━━━━━━━━━━━━━━━━━━━━━┳━━━━━━━━━━━━━━━━━━━━━━━━┳━━━━━━━━━━━━━━━┓\n",
              "┃<span style=\"font-weight: bold\"> Layer (type)                    </span>┃<span style=\"font-weight: bold\"> Output Shape           </span>┃<span style=\"font-weight: bold\">       Param # </span>┃\n",
              "┡━━━━━━━━━━━━━━━━━━━━━━━━━━━━━━━━━╇━━━━━━━━━━━━━━━━━━━━━━━━╇━━━━━━━━━━━━━━━┩\n",
              "│ embedding (<span style=\"color: #0087ff; text-decoration-color: #0087ff\">Embedding</span>)           │ ?                      │   <span style=\"color: #00af00; text-decoration-color: #00af00\">0</span> (unbuilt) │\n",
              "├─────────────────────────────────┼────────────────────────┼───────────────┤\n",
              "│ lstm (<span style=\"color: #0087ff; text-decoration-color: #0087ff\">LSTM</span>)                     │ ?                      │   <span style=\"color: #00af00; text-decoration-color: #00af00\">0</span> (unbuilt) │\n",
              "├─────────────────────────────────┼────────────────────────┼───────────────┤\n",
              "│ dense (<span style=\"color: #0087ff; text-decoration-color: #0087ff\">Dense</span>)                   │ ?                      │   <span style=\"color: #00af00; text-decoration-color: #00af00\">0</span> (unbuilt) │\n",
              "└─────────────────────────────────┴────────────────────────┴───────────────┘\n",
              "</pre>\n"
            ]
          },
          "metadata": {}
        },
        {
          "output_type": "display_data",
          "data": {
            "text/plain": [
              "\u001b[1m Total params: \u001b[0m\u001b[38;5;34m0\u001b[0m (0.00 B)\n"
            ],
            "text/html": [
              "<pre style=\"white-space:pre;overflow-x:auto;line-height:normal;font-family:Menlo,'DejaVu Sans Mono',consolas,'Courier New',monospace\"><span style=\"font-weight: bold\"> Total params: </span><span style=\"color: #00af00; text-decoration-color: #00af00\">0</span> (0.00 B)\n",
              "</pre>\n"
            ]
          },
          "metadata": {}
        },
        {
          "output_type": "display_data",
          "data": {
            "text/plain": [
              "\u001b[1m Trainable params: \u001b[0m\u001b[38;5;34m0\u001b[0m (0.00 B)\n"
            ],
            "text/html": [
              "<pre style=\"white-space:pre;overflow-x:auto;line-height:normal;font-family:Menlo,'DejaVu Sans Mono',consolas,'Courier New',monospace\"><span style=\"font-weight: bold\"> Trainable params: </span><span style=\"color: #00af00; text-decoration-color: #00af00\">0</span> (0.00 B)\n",
              "</pre>\n"
            ]
          },
          "metadata": {}
        },
        {
          "output_type": "display_data",
          "data": {
            "text/plain": [
              "\u001b[1m Non-trainable params: \u001b[0m\u001b[38;5;34m0\u001b[0m (0.00 B)\n"
            ],
            "text/html": [
              "<pre style=\"white-space:pre;overflow-x:auto;line-height:normal;font-family:Menlo,'DejaVu Sans Mono',consolas,'Courier New',monospace\"><span style=\"font-weight: bold\"> Non-trainable params: </span><span style=\"color: #00af00; text-decoration-color: #00af00\">0</span> (0.00 B)\n",
              "</pre>\n"
            ]
          },
          "metadata": {}
        }
      ]
    },
    {
      "cell_type": "code",
      "source": [
        "# Let's start by re-initializing our model and defining the hyperparameters\n",
        "# to ensure everything is in one place for clarity.\n",
        "VOCAB_SIZE = 10000  # From our Tokenizer\n",
        "MAX_LEN = 200       # From our padding step\n",
        "EMBEDDING_DIM = 128 # A common choice for embedding vector size\n",
        "\n",
        "# Initialize the Sequential model\n",
        "# This creates an empty, linear stack of layers.\n",
        "model = Sequential()\n",
        "\n",
        "# Add the Embedding layer as the first layer in our network.\n",
        "# This layer will transform our sequences of integer IDs into sequences of dense vectors.\n",
        "model.add(Embedding(\n",
        "    # --- Key Parameters Explained ---\n",
        "\n",
        "    # input_dim: This is the size of our vocabulary (the total number of unique words\n",
        "    # the tokenizer learned). The layer needs to know this to create a unique vector for\n",
        "    # each word. It must be set to VOCAB_SIZE.\n",
        "    input_dim=VOCAB_SIZE,\n",
        "\n",
        "    # output_dim: This is a hyperparameter we choose. It defines the size of the dense\n",
        "    # vector that will represent each word. A larger dimension allows the model to learn\n",
        "    # more complex relationships between words, at the cost of more parameters. 128 is a\n",
        "    # strong, common starting point.\n",
        "    output_dim=EMBEDDING_DIM,\n",
        "\n",
        "    # input_length: This is crucial for the first layer. It tells the model the exact\n",
        "    # length of each input sequence it will receive. For us, this is the MAX_LEN (200)\n",
        "    # we defined during padding.\n",
        "    input_length=MAX_LEN\n",
        "))\n",
        "\n",
        "# Let's see what our model looks like now with just this one layer.\n",
        "# The .summary() method gives us a fantastic overview of the architecture.\n",
        "print(\"Model summary after adding the Embedding layer:\")\n",
        "model.summary()"
      ],
      "metadata": {
        "id": "elPUoJrKtJNx",
        "colab": {
          "base_uri": "https://localhost:8080/",
          "height": 178
        },
        "outputId": "fa220309-687d-46b5-d72b-36b19efba2c0"
      },
      "execution_count": null,
      "outputs": [
        {
          "output_type": "stream",
          "name": "stdout",
          "text": [
            "Model summary after adding the Embedding layer:\n"
          ]
        },
        {
          "output_type": "display_data",
          "data": {
            "text/plain": [
              "\u001b[1mModel: \"sequential_1\"\u001b[0m\n"
            ],
            "text/html": [
              "<pre style=\"white-space:pre;overflow-x:auto;line-height:normal;font-family:Menlo,'DejaVu Sans Mono',consolas,'Courier New',monospace\"><span style=\"font-weight: bold\">Model: \"sequential_1\"</span>\n",
              "</pre>\n"
            ]
          },
          "metadata": {}
        },
        {
          "output_type": "display_data",
          "data": {
            "text/plain": [
              "┏━━━━━━━━━━━━━━━━━━━━━━━━━━━━━━━━━┳━━━━━━━━━━━━━━━━━━━━━━━━┳━━━━━━━━━━━━━━━┓\n",
              "┃\u001b[1m \u001b[0m\u001b[1mLayer (type)                   \u001b[0m\u001b[1m \u001b[0m┃\u001b[1m \u001b[0m\u001b[1mOutput Shape          \u001b[0m\u001b[1m \u001b[0m┃\u001b[1m \u001b[0m\u001b[1m      Param #\u001b[0m\u001b[1m \u001b[0m┃\n",
              "┡━━━━━━━━━━━━━━━━━━━━━━━━━━━━━━━━━╇━━━━━━━━━━━━━━━━━━━━━━━━╇━━━━━━━━━━━━━━━┩\n",
              "│ embedding_1 (\u001b[38;5;33mEmbedding\u001b[0m)         │ ?                      │   \u001b[38;5;34m0\u001b[0m (unbuilt) │\n",
              "└─────────────────────────────────┴────────────────────────┴───────────────┘\n"
            ],
            "text/html": [
              "<pre style=\"white-space:pre;overflow-x:auto;line-height:normal;font-family:Menlo,'DejaVu Sans Mono',consolas,'Courier New',monospace\">┏━━━━━━━━━━━━━━━━━━━━━━━━━━━━━━━━━┳━━━━━━━━━━━━━━━━━━━━━━━━┳━━━━━━━━━━━━━━━┓\n",
              "┃<span style=\"font-weight: bold\"> Layer (type)                    </span>┃<span style=\"font-weight: bold\"> Output Shape           </span>┃<span style=\"font-weight: bold\">       Param # </span>┃\n",
              "┡━━━━━━━━━━━━━━━━━━━━━━━━━━━━━━━━━╇━━━━━━━━━━━━━━━━━━━━━━━━╇━━━━━━━━━━━━━━━┩\n",
              "│ embedding_1 (<span style=\"color: #0087ff; text-decoration-color: #0087ff\">Embedding</span>)         │ ?                      │   <span style=\"color: #00af00; text-decoration-color: #00af00\">0</span> (unbuilt) │\n",
              "└─────────────────────────────────┴────────────────────────┴───────────────┘\n",
              "</pre>\n"
            ]
          },
          "metadata": {}
        },
        {
          "output_type": "display_data",
          "data": {
            "text/plain": [
              "\u001b[1m Total params: \u001b[0m\u001b[38;5;34m0\u001b[0m (0.00 B)\n"
            ],
            "text/html": [
              "<pre style=\"white-space:pre;overflow-x:auto;line-height:normal;font-family:Menlo,'DejaVu Sans Mono',consolas,'Courier New',monospace\"><span style=\"font-weight: bold\"> Total params: </span><span style=\"color: #00af00; text-decoration-color: #00af00\">0</span> (0.00 B)\n",
              "</pre>\n"
            ]
          },
          "metadata": {}
        },
        {
          "output_type": "display_data",
          "data": {
            "text/plain": [
              "\u001b[1m Trainable params: \u001b[0m\u001b[38;5;34m0\u001b[0m (0.00 B)\n"
            ],
            "text/html": [
              "<pre style=\"white-space:pre;overflow-x:auto;line-height:normal;font-family:Menlo,'DejaVu Sans Mono',consolas,'Courier New',monospace\"><span style=\"font-weight: bold\"> Trainable params: </span><span style=\"color: #00af00; text-decoration-color: #00af00\">0</span> (0.00 B)\n",
              "</pre>\n"
            ]
          },
          "metadata": {}
        },
        {
          "output_type": "display_data",
          "data": {
            "text/plain": [
              "\u001b[1m Non-trainable params: \u001b[0m\u001b[38;5;34m0\u001b[0m (0.00 B)\n"
            ],
            "text/html": [
              "<pre style=\"white-space:pre;overflow-x:auto;line-height:normal;font-family:Menlo,'DejaVu Sans Mono',consolas,'Courier New',monospace\"><span style=\"font-weight: bold\"> Non-trainable params: </span><span style=\"color: #00af00; text-decoration-color: #00af00\">0</span> (0.00 B)\n",
              "</pre>\n"
            ]
          },
          "metadata": {}
        }
      ]
    },
    {
      "cell_type": "code",
      "source": [
        "# Let's re-state our hyperparameters for clarity.\n",
        "VOCAB_SIZE = 10000\n",
        "MAX_LEN = 200\n",
        "EMBEDDING_DIM = 128\n",
        "LSTM_UNITS = 64 # A new hyperparameter for our LSTM layer\n",
        "\n",
        "# Re-initialize the model and add the Embedding layer from the previous step for context.\n",
        "model = Sequential()\n",
        "model.add(Embedding(\n",
        "    input_dim=VOCAB_SIZE,\n",
        "    output_dim=EMBEDDING_DIM,\n",
        "    input_length=MAX_LEN\n",
        "))\n",
        "\n",
        "# --- NEW CODE FOR THIS TASK ---\n",
        "# Now, we add the LSTM layer. This is the core of our recurrent network.\n",
        "model.add(LSTM(\n",
        "    # units: This is the dimensionality of the output space, which is also the size of the\n",
        "    # LSTM's internal memory cells. It's a key hyperparameter that determines the\n",
        "    # capacity of the layer. We've set it to 64.\n",
        "    units=LSTM_UNITS,\n",
        "\n",
        "    # dropout: A crucial regularization technique. It specifies the fraction of input units\n",
        "    # to drop during the forward pass. This helps prevent the model from overfitting by\n",
        "    # randomly ignoring some neurons, forcing others to learn more robust features.\n",
        "    # A value of 0.2 means 20% of the inputs will be dropped.\n",
        "    dropout=0.2,\n",
        "\n",
        "    # recurrent_dropout: This is similar to dropout but is applied to the connections\n",
        "    # between recurrent steps (i.e., the connections for the hidden state). It is another\n",
        "    # powerful tool to combat overfitting in recurrent layers.\n",
        "    recurrent_dropout=0.2\n",
        "))\n",
        "\n",
        "# Let's check our model's architecture again with the new layer added.\n",
        "print(\"Model summary after adding the LSTM layer:\")\n",
        "model.summary()"
      ],
      "metadata": {
        "id": "EXZ2sZTjtrFA",
        "colab": {
          "base_uri": "https://localhost:8080/",
          "height": 210
        },
        "outputId": "1ebcabc2-789d-45f9-dc28-451bb8d4d2c3"
      },
      "execution_count": null,
      "outputs": [
        {
          "output_type": "stream",
          "name": "stdout",
          "text": [
            "Model summary after adding the LSTM layer:\n"
          ]
        },
        {
          "output_type": "display_data",
          "data": {
            "text/plain": [
              "\u001b[1mModel: \"sequential_2\"\u001b[0m\n"
            ],
            "text/html": [
              "<pre style=\"white-space:pre;overflow-x:auto;line-height:normal;font-family:Menlo,'DejaVu Sans Mono',consolas,'Courier New',monospace\"><span style=\"font-weight: bold\">Model: \"sequential_2\"</span>\n",
              "</pre>\n"
            ]
          },
          "metadata": {}
        },
        {
          "output_type": "display_data",
          "data": {
            "text/plain": [
              "┏━━━━━━━━━━━━━━━━━━━━━━━━━━━━━━━━━┳━━━━━━━━━━━━━━━━━━━━━━━━┳━━━━━━━━━━━━━━━┓\n",
              "┃\u001b[1m \u001b[0m\u001b[1mLayer (type)                   \u001b[0m\u001b[1m \u001b[0m┃\u001b[1m \u001b[0m\u001b[1mOutput Shape          \u001b[0m\u001b[1m \u001b[0m┃\u001b[1m \u001b[0m\u001b[1m      Param #\u001b[0m\u001b[1m \u001b[0m┃\n",
              "┡━━━━━━━━━━━━━━━━━━━━━━━━━━━━━━━━━╇━━━━━━━━━━━━━━━━━━━━━━━━╇━━━━━━━━━━━━━━━┩\n",
              "│ embedding_2 (\u001b[38;5;33mEmbedding\u001b[0m)         │ ?                      │   \u001b[38;5;34m0\u001b[0m (unbuilt) │\n",
              "├─────────────────────────────────┼────────────────────────┼───────────────┤\n",
              "│ lstm_1 (\u001b[38;5;33mLSTM\u001b[0m)                   │ ?                      │   \u001b[38;5;34m0\u001b[0m (unbuilt) │\n",
              "└─────────────────────────────────┴────────────────────────┴───────────────┘\n"
            ],
            "text/html": [
              "<pre style=\"white-space:pre;overflow-x:auto;line-height:normal;font-family:Menlo,'DejaVu Sans Mono',consolas,'Courier New',monospace\">┏━━━━━━━━━━━━━━━━━━━━━━━━━━━━━━━━━┳━━━━━━━━━━━━━━━━━━━━━━━━┳━━━━━━━━━━━━━━━┓\n",
              "┃<span style=\"font-weight: bold\"> Layer (type)                    </span>┃<span style=\"font-weight: bold\"> Output Shape           </span>┃<span style=\"font-weight: bold\">       Param # </span>┃\n",
              "┡━━━━━━━━━━━━━━━━━━━━━━━━━━━━━━━━━╇━━━━━━━━━━━━━━━━━━━━━━━━╇━━━━━━━━━━━━━━━┩\n",
              "│ embedding_2 (<span style=\"color: #0087ff; text-decoration-color: #0087ff\">Embedding</span>)         │ ?                      │   <span style=\"color: #00af00; text-decoration-color: #00af00\">0</span> (unbuilt) │\n",
              "├─────────────────────────────────┼────────────────────────┼───────────────┤\n",
              "│ lstm_1 (<span style=\"color: #0087ff; text-decoration-color: #0087ff\">LSTM</span>)                   │ ?                      │   <span style=\"color: #00af00; text-decoration-color: #00af00\">0</span> (unbuilt) │\n",
              "└─────────────────────────────────┴────────────────────────┴───────────────┘\n",
              "</pre>\n"
            ]
          },
          "metadata": {}
        },
        {
          "output_type": "display_data",
          "data": {
            "text/plain": [
              "\u001b[1m Total params: \u001b[0m\u001b[38;5;34m0\u001b[0m (0.00 B)\n"
            ],
            "text/html": [
              "<pre style=\"white-space:pre;overflow-x:auto;line-height:normal;font-family:Menlo,'DejaVu Sans Mono',consolas,'Courier New',monospace\"><span style=\"font-weight: bold\"> Total params: </span><span style=\"color: #00af00; text-decoration-color: #00af00\">0</span> (0.00 B)\n",
              "</pre>\n"
            ]
          },
          "metadata": {}
        },
        {
          "output_type": "display_data",
          "data": {
            "text/plain": [
              "\u001b[1m Trainable params: \u001b[0m\u001b[38;5;34m0\u001b[0m (0.00 B)\n"
            ],
            "text/html": [
              "<pre style=\"white-space:pre;overflow-x:auto;line-height:normal;font-family:Menlo,'DejaVu Sans Mono',consolas,'Courier New',monospace\"><span style=\"font-weight: bold\"> Trainable params: </span><span style=\"color: #00af00; text-decoration-color: #00af00\">0</span> (0.00 B)\n",
              "</pre>\n"
            ]
          },
          "metadata": {}
        },
        {
          "output_type": "display_data",
          "data": {
            "text/plain": [
              "\u001b[1m Non-trainable params: \u001b[0m\u001b[38;5;34m0\u001b[0m (0.00 B)\n"
            ],
            "text/html": [
              "<pre style=\"white-space:pre;overflow-x:auto;line-height:normal;font-family:Menlo,'DejaVu Sans Mono',consolas,'Courier New',monospace\"><span style=\"font-weight: bold\"> Non-trainable params: </span><span style=\"color: #00af00; text-decoration-color: #00af00\">0</span> (0.00 B)\n",
              "</pre>\n"
            ]
          },
          "metadata": {}
        }
      ]
    },
    {
      "cell_type": "code",
      "source": [
        "# We'll continue building on the 'model' object from the previous tasks.\n",
        "# Let's re-state our hyperparameters for clarity.\n",
        "VOCAB_SIZE = 10000\n",
        "MAX_LEN = 200\n",
        "EMBEDDING_DIM = 128\n",
        "LSTM_UNITS = 64\n",
        "\n",
        "# Re-initialize the model and add the previous layers for context.\n",
        "model = Sequential()\n",
        "model.add(Embedding(\n",
        "    input_dim=VOCAB_SIZE,\n",
        "    output_dim=EMBEDDING_DIM,\n",
        "    input_length=MAX_LEN\n",
        "))\n",
        "model.add(LSTM(\n",
        "    units=LSTM_UNITS,\n",
        "    dropout=0.2,\n",
        "    recurrent_dropout=0.2\n",
        "))\n",
        "\n",
        "# --- NEW CODE FOR THIS TASK ---\n",
        "# Now, we add the final Dense layer. This is our classifier.\n",
        "model.add(Dense(\n",
        "    # units=1: We specify a single neuron because this is a binary classification problem.\n",
        "    # We want one output value that represents the probability of the positive class.\n",
        "    units=1,\n",
        "\n",
        "    # activation='sigmoid': This is the crucial activation function for binary classification.\n",
        "    # It squashes the neuron's output to a value between 0 and 1, allowing us to\n",
        "    # interpret it as a probability.\n",
        "    activation='sigmoid'\n",
        "))\n",
        "\n",
        "# Let's look at the complete architecture of our model.\n",
        "print(\"Final model summary:\")\n",
        "model.summary()\n",
        "# We'll continue with the 'model' object that has all three layers added.\n",
        "\n",
        "# The compile() step configures the model for training. It's the final step\n",
        "# before we can call .fit().\n",
        "model.compile(\n",
        "    # optimizer='adam': We choose the Adam optimizer. It's a highly effective and\n",
        "    # popular choice that adapts the learning rate during training for efficient convergence.\n",
        "    optimizer='adam',\n",
        "\n",
        "    # loss='binary_crossentropy': This is the ideal loss function for a binary (two-class)\n",
        "    # classification problem where the final layer has a sigmoid activation. It measures the\n",
        "    # \"distance\" between the true labels (0 or 1) and the model's predicted probabilities.\n",
        "    loss='binary_crossentropy',\n",
        "\n",
        "    # metrics=['accuracy']: While the model optimizes to reduce the loss, we want to monitor\n",
        "    # a more human-interpretable metric. 'accuracy' will tell us the percentage of\n",
        "    # predictions the model got right during training and validation.\n",
        "    metrics=['accuracy']\n",
        ")\n",
        "\n",
        "# After compiling, we can print the summary again. The architecture is unchanged,\n",
        "# but this confirms our model object is fully configured and ready for the next step.\n",
        "print(\"Model has been successfully compiled and is ready for training.\")\n",
        "model.summary()"
      ],
      "metadata": {
        "id": "18firrIUuROz",
        "colab": {
          "base_uri": "https://localhost:8080/",
          "height": 468
        },
        "outputId": "a8e90cd5-34a5-4ccd-c154-446ed97649e6"
      },
      "execution_count": null,
      "outputs": [
        {
          "output_type": "stream",
          "name": "stdout",
          "text": [
            "Final model summary:\n"
          ]
        },
        {
          "output_type": "display_data",
          "data": {
            "text/plain": [
              "\u001b[1mModel: \"sequential_3\"\u001b[0m\n"
            ],
            "text/html": [
              "<pre style=\"white-space:pre;overflow-x:auto;line-height:normal;font-family:Menlo,'DejaVu Sans Mono',consolas,'Courier New',monospace\"><span style=\"font-weight: bold\">Model: \"sequential_3\"</span>\n",
              "</pre>\n"
            ]
          },
          "metadata": {}
        },
        {
          "output_type": "display_data",
          "data": {
            "text/plain": [
              "┏━━━━━━━━━━━━━━━━━━━━━━━━━━━━━━━━━┳━━━━━━━━━━━━━━━━━━━━━━━━┳━━━━━━━━━━━━━━━┓\n",
              "┃\u001b[1m \u001b[0m\u001b[1mLayer (type)                   \u001b[0m\u001b[1m \u001b[0m┃\u001b[1m \u001b[0m\u001b[1mOutput Shape          \u001b[0m\u001b[1m \u001b[0m┃\u001b[1m \u001b[0m\u001b[1m      Param #\u001b[0m\u001b[1m \u001b[0m┃\n",
              "┡━━━━━━━━━━━━━━━━━━━━━━━━━━━━━━━━━╇━━━━━━━━━━━━━━━━━━━━━━━━╇━━━━━━━━━━━━━━━┩\n",
              "│ embedding_3 (\u001b[38;5;33mEmbedding\u001b[0m)         │ ?                      │   \u001b[38;5;34m0\u001b[0m (unbuilt) │\n",
              "├─────────────────────────────────┼────────────────────────┼───────────────┤\n",
              "│ lstm_2 (\u001b[38;5;33mLSTM\u001b[0m)                   │ ?                      │   \u001b[38;5;34m0\u001b[0m (unbuilt) │\n",
              "├─────────────────────────────────┼────────────────────────┼───────────────┤\n",
              "│ dense_1 (\u001b[38;5;33mDense\u001b[0m)                 │ ?                      │   \u001b[38;5;34m0\u001b[0m (unbuilt) │\n",
              "└─────────────────────────────────┴────────────────────────┴───────────────┘\n"
            ],
            "text/html": [
              "<pre style=\"white-space:pre;overflow-x:auto;line-height:normal;font-family:Menlo,'DejaVu Sans Mono',consolas,'Courier New',monospace\">┏━━━━━━━━━━━━━━━━━━━━━━━━━━━━━━━━━┳━━━━━━━━━━━━━━━━━━━━━━━━┳━━━━━━━━━━━━━━━┓\n",
              "┃<span style=\"font-weight: bold\"> Layer (type)                    </span>┃<span style=\"font-weight: bold\"> Output Shape           </span>┃<span style=\"font-weight: bold\">       Param # </span>┃\n",
              "┡━━━━━━━━━━━━━━━━━━━━━━━━━━━━━━━━━╇━━━━━━━━━━━━━━━━━━━━━━━━╇━━━━━━━━━━━━━━━┩\n",
              "│ embedding_3 (<span style=\"color: #0087ff; text-decoration-color: #0087ff\">Embedding</span>)         │ ?                      │   <span style=\"color: #00af00; text-decoration-color: #00af00\">0</span> (unbuilt) │\n",
              "├─────────────────────────────────┼────────────────────────┼───────────────┤\n",
              "│ lstm_2 (<span style=\"color: #0087ff; text-decoration-color: #0087ff\">LSTM</span>)                   │ ?                      │   <span style=\"color: #00af00; text-decoration-color: #00af00\">0</span> (unbuilt) │\n",
              "├─────────────────────────────────┼────────────────────────┼───────────────┤\n",
              "│ dense_1 (<span style=\"color: #0087ff; text-decoration-color: #0087ff\">Dense</span>)                 │ ?                      │   <span style=\"color: #00af00; text-decoration-color: #00af00\">0</span> (unbuilt) │\n",
              "└─────────────────────────────────┴────────────────────────┴───────────────┘\n",
              "</pre>\n"
            ]
          },
          "metadata": {}
        },
        {
          "output_type": "display_data",
          "data": {
            "text/plain": [
              "\u001b[1m Total params: \u001b[0m\u001b[38;5;34m0\u001b[0m (0.00 B)\n"
            ],
            "text/html": [
              "<pre style=\"white-space:pre;overflow-x:auto;line-height:normal;font-family:Menlo,'DejaVu Sans Mono',consolas,'Courier New',monospace\"><span style=\"font-weight: bold\"> Total params: </span><span style=\"color: #00af00; text-decoration-color: #00af00\">0</span> (0.00 B)\n",
              "</pre>\n"
            ]
          },
          "metadata": {}
        },
        {
          "output_type": "display_data",
          "data": {
            "text/plain": [
              "\u001b[1m Trainable params: \u001b[0m\u001b[38;5;34m0\u001b[0m (0.00 B)\n"
            ],
            "text/html": [
              "<pre style=\"white-space:pre;overflow-x:auto;line-height:normal;font-family:Menlo,'DejaVu Sans Mono',consolas,'Courier New',monospace\"><span style=\"font-weight: bold\"> Trainable params: </span><span style=\"color: #00af00; text-decoration-color: #00af00\">0</span> (0.00 B)\n",
              "</pre>\n"
            ]
          },
          "metadata": {}
        },
        {
          "output_type": "display_data",
          "data": {
            "text/plain": [
              "\u001b[1m Non-trainable params: \u001b[0m\u001b[38;5;34m0\u001b[0m (0.00 B)\n"
            ],
            "text/html": [
              "<pre style=\"white-space:pre;overflow-x:auto;line-height:normal;font-family:Menlo,'DejaVu Sans Mono',consolas,'Courier New',monospace\"><span style=\"font-weight: bold\"> Non-trainable params: </span><span style=\"color: #00af00; text-decoration-color: #00af00\">0</span> (0.00 B)\n",
              "</pre>\n"
            ]
          },
          "metadata": {}
        },
        {
          "output_type": "stream",
          "name": "stdout",
          "text": [
            "Model has been successfully compiled and is ready for training.\n"
          ]
        },
        {
          "output_type": "display_data",
          "data": {
            "text/plain": [
              "\u001b[1mModel: \"sequential_3\"\u001b[0m\n"
            ],
            "text/html": [
              "<pre style=\"white-space:pre;overflow-x:auto;line-height:normal;font-family:Menlo,'DejaVu Sans Mono',consolas,'Courier New',monospace\"><span style=\"font-weight: bold\">Model: \"sequential_3\"</span>\n",
              "</pre>\n"
            ]
          },
          "metadata": {}
        },
        {
          "output_type": "display_data",
          "data": {
            "text/plain": [
              "┏━━━━━━━━━━━━━━━━━━━━━━━━━━━━━━━━━┳━━━━━━━━━━━━━━━━━━━━━━━━┳━━━━━━━━━━━━━━━┓\n",
              "┃\u001b[1m \u001b[0m\u001b[1mLayer (type)                   \u001b[0m\u001b[1m \u001b[0m┃\u001b[1m \u001b[0m\u001b[1mOutput Shape          \u001b[0m\u001b[1m \u001b[0m┃\u001b[1m \u001b[0m\u001b[1m      Param #\u001b[0m\u001b[1m \u001b[0m┃\n",
              "┡━━━━━━━━━━━━━━━━━━━━━━━━━━━━━━━━━╇━━━━━━━━━━━━━━━━━━━━━━━━╇━━━━━━━━━━━━━━━┩\n",
              "│ embedding_3 (\u001b[38;5;33mEmbedding\u001b[0m)         │ ?                      │   \u001b[38;5;34m0\u001b[0m (unbuilt) │\n",
              "├─────────────────────────────────┼────────────────────────┼───────────────┤\n",
              "│ lstm_2 (\u001b[38;5;33mLSTM\u001b[0m)                   │ ?                      │   \u001b[38;5;34m0\u001b[0m (unbuilt) │\n",
              "├─────────────────────────────────┼────────────────────────┼───────────────┤\n",
              "│ dense_1 (\u001b[38;5;33mDense\u001b[0m)                 │ ?                      │   \u001b[38;5;34m0\u001b[0m (unbuilt) │\n",
              "└─────────────────────────────────┴────────────────────────┴───────────────┘\n"
            ],
            "text/html": [
              "<pre style=\"white-space:pre;overflow-x:auto;line-height:normal;font-family:Menlo,'DejaVu Sans Mono',consolas,'Courier New',monospace\">┏━━━━━━━━━━━━━━━━━━━━━━━━━━━━━━━━━┳━━━━━━━━━━━━━━━━━━━━━━━━┳━━━━━━━━━━━━━━━┓\n",
              "┃<span style=\"font-weight: bold\"> Layer (type)                    </span>┃<span style=\"font-weight: bold\"> Output Shape           </span>┃<span style=\"font-weight: bold\">       Param # </span>┃\n",
              "┡━━━━━━━━━━━━━━━━━━━━━━━━━━━━━━━━━╇━━━━━━━━━━━━━━━━━━━━━━━━╇━━━━━━━━━━━━━━━┩\n",
              "│ embedding_3 (<span style=\"color: #0087ff; text-decoration-color: #0087ff\">Embedding</span>)         │ ?                      │   <span style=\"color: #00af00; text-decoration-color: #00af00\">0</span> (unbuilt) │\n",
              "├─────────────────────────────────┼────────────────────────┼───────────────┤\n",
              "│ lstm_2 (<span style=\"color: #0087ff; text-decoration-color: #0087ff\">LSTM</span>)                   │ ?                      │   <span style=\"color: #00af00; text-decoration-color: #00af00\">0</span> (unbuilt) │\n",
              "├─────────────────────────────────┼────────────────────────┼───────────────┤\n",
              "│ dense_1 (<span style=\"color: #0087ff; text-decoration-color: #0087ff\">Dense</span>)                 │ ?                      │   <span style=\"color: #00af00; text-decoration-color: #00af00\">0</span> (unbuilt) │\n",
              "└─────────────────────────────────┴────────────────────────┴───────────────┘\n",
              "</pre>\n"
            ]
          },
          "metadata": {}
        },
        {
          "output_type": "display_data",
          "data": {
            "text/plain": [
              "\u001b[1m Total params: \u001b[0m\u001b[38;5;34m0\u001b[0m (0.00 B)\n"
            ],
            "text/html": [
              "<pre style=\"white-space:pre;overflow-x:auto;line-height:normal;font-family:Menlo,'DejaVu Sans Mono',consolas,'Courier New',monospace\"><span style=\"font-weight: bold\"> Total params: </span><span style=\"color: #00af00; text-decoration-color: #00af00\">0</span> (0.00 B)\n",
              "</pre>\n"
            ]
          },
          "metadata": {}
        },
        {
          "output_type": "display_data",
          "data": {
            "text/plain": [
              "\u001b[1m Trainable params: \u001b[0m\u001b[38;5;34m0\u001b[0m (0.00 B)\n"
            ],
            "text/html": [
              "<pre style=\"white-space:pre;overflow-x:auto;line-height:normal;font-family:Menlo,'DejaVu Sans Mono',consolas,'Courier New',monospace\"><span style=\"font-weight: bold\"> Trainable params: </span><span style=\"color: #00af00; text-decoration-color: #00af00\">0</span> (0.00 B)\n",
              "</pre>\n"
            ]
          },
          "metadata": {}
        },
        {
          "output_type": "display_data",
          "data": {
            "text/plain": [
              "\u001b[1m Non-trainable params: \u001b[0m\u001b[38;5;34m0\u001b[0m (0.00 B)\n"
            ],
            "text/html": [
              "<pre style=\"white-space:pre;overflow-x:auto;line-height:normal;font-family:Menlo,'DejaVu Sans Mono',consolas,'Courier New',monospace\"><span style=\"font-weight: bold\"> Non-trainable params: </span><span style=\"color: #00af00; text-decoration-color: #00af00\">0</span> (0.00 B)\n",
              "</pre>\n"
            ]
          },
          "metadata": {}
        }
      ]
    },
    {
      "cell_type": "code",
      "source": [
        "\n",
        "import numpy as np"
      ],
      "metadata": {
        "id": "v8CxaZoUunMw"
      },
      "execution_count": null,
      "outputs": []
    },
    {
      "cell_type": "code",
      "source": [
        "from flask import Flask, request, jsonify\n",
        "import joblib\n",
        "import numpy as np\n",
        "import re\n",
        "# Load the trained model and the TF-IDF vectorizer from disk.\n",
        "# We are loading them here, in the global scope, so they are loaded only ONCE when the\n",
        "# application starts. This is a crucial optimization.\n",
        "try:\n",
        "    model = joblib.load('lr_model.pkl')\n",
        "    vectorizer = joblib.load('tfidf_vectorizer.pkl')\n",
        "    # Print a success message to the console to confirm that the models loaded correctly.\n",
        "    print(\"Model and vectorizer loaded successfully.\")\n",
        "except FileNotFoundError:\n",
        "    print(\"Error: Model or vectorizer file not found. Make sure 'lr_model.pkl' and 'tfidf_vectorizer.pkl' are in the same directory as app.py.\")\n",
        "    model = None\n",
        "    vectorizer = None\n",
        "except Exception as e:\n",
        "    print(f\"An error occurred while loading the model/vectorizer: {e}\")\n",
        "    model = None\n",
        "    vectorizer = None\n",
        "import nltk\n",
        "nltk.download('stopwords')\n",
        "nltk.download('wordnet')\n",
        "from nltk.corpus import stopwords\n",
        "from nltk.stem import WordNetLemmatizer\n",
        "\n",
        "\n",
        "\n",
        "# Initialize the lemmatizer and stopwords list\n",
        "lemmatizer = WordNetLemmatizer()\n",
        "stop_words = set(stopwords.words('english'))"
      ],
      "metadata": {
        "id": "3eWefKTVuaur",
        "colab": {
          "base_uri": "https://localhost:8080/"
        },
        "outputId": "49820e7f-3346-4fa8-f403-13cee2a827f2"
      },
      "execution_count": null,
      "outputs": [
        {
          "output_type": "stream",
          "name": "stdout",
          "text": [
            "Model and vectorizer loaded successfully.\n"
          ]
        },
        {
          "output_type": "stream",
          "name": "stderr",
          "text": [
            "[nltk_data] Downloading package stopwords to /root/nltk_data...\n",
            "[nltk_data]   Package stopwords is already up-to-date!\n",
            "[nltk_data] Downloading package wordnet to /root/nltk_data...\n",
            "[nltk_data]   Package wordnet is already up-to-date!\n"
          ]
        }
      ]
    },
    {
      "cell_type": "code",
      "source": [
        "def preprocess_text(text):\n",
        "    \"\"\"\n",
        "    This function takes a raw text string and performs a series of cleaning\n",
        "    and preprocessing steps, returning a clean string ready for TF-IDF vectorization.\n",
        "    \"\"\"\n",
        "    text = text.lower()\n",
        "\n",
        "    text = re.sub(r'<.*?>', '', text)\n",
        "\n",
        "    text = re.sub(r'[^a-zA-Z\\s]', '', text)\n",
        "\n",
        "    tokens = text.split()\n",
        "\n",
        "    cleaned_tokens = [lemmatizer.lemmatize(word) for word in tokens if word not in stop_words]\n",
        "\n",
        "    return ' '.join(cleaned_tokens)\n",
        "\n",
        "# Initialize a Flask application instance.\n",
        "# This is the central object that will run our web service.\n",
        "app = Flask(__name__)\n",
        "\n",
        "# Define the prediction endpoint.\n",
        "# @app.route is a decorator that maps a URL path to a function.\n",
        "# '/predict': This is the URL path for our endpoint.\n",
        "# methods=['POST']: This specifies that this endpoint only accepts POST requests.\n",
        "@app.route('/predict', methods=['POST'])\n",
        "def predict():\n",
        "    \"\"\"\n",
        "    This function will handle the prediction logic.\n",
        "    It will be triggered when a POST request is made to the /predict URL.\n",
        "    The logic to process the request and return a prediction will go here.\n",
        "    \"\"\"\n",
        "    # For now, we'll just have a placeholder.\n",
        "    # The full logic will be built in the next steps.\n",
        "    pass\n",
        "    try:\n",
        "        data = request.get_json()\n",
        "        # A basic check to ensure we received data and it's not empty.\n",
        "        if data is None:\n",
        "            # Return a user-friendly error message and a 400 Bad Request status code.\n",
        "            return jsonify({'error': 'Invalid input: No JSON data received or content-type is not application/json.'}), 400\n",
        "    except Exception as e:\n",
        "        # If any other error occurs during JSON parsing, we catch it here.\n",
        "        return jsonify({'error': f'An error occurred while parsing JSON: {str(e)}'}), 400\n",
        "    # 2. Extract the review text from the JSON data.\n",
        "    # We use the .get() method which is safer than direct key access (data['review']).\n",
        "    # If the 'review' key doesn't exist, .get() returns None instead of raising a KeyError.\n",
        "    review_text = data.get('review')\n",
        "\n",
        "    # 3. Validate the input.\n",
        "    # We check if the 'review' key was present and if its value is a non-empty string.\n",
        "    # isinstance(review_text, str) ensures the client didn't send something else, like a number.\n",
        "    if not review_text or not isinstance(review_text, str) or not review_text.strip():\n",
        "        # Return a specific, helpful error message and a 400 Bad Request status code.\n",
        "        return jsonify({'error': 'The \"review\" field is missing, empty, or not a string.'}), 400\n",
        "    cleaned_text = preprocess_text(review_text)\n",
        "    try:\n",
        "        text_vector = vectorizer.transform([cleaned_text])\n",
        "    except Exception as e:\n",
        "        # Handle potential errors during the transformation step.\n",
        "        return jsonify({'error': f'An error occurred during text vectorization: {str(e)}'}), 500\n",
        "    # The .predict() method takes the numerical vector and returns the predicted class label.\n",
        "    try:\n",
        "        prediction = model.predict(text_vector)\n",
        "        # The output of .predict() is a NumPy array (e.g., array(['positive'])).\n",
        "        # We extract the actual string prediction from the first element of the array.\n",
        "        sentiment = prediction[0]\n",
        "    except Exception as e:\n",
        "        # Handle potential errors during the prediction step.\n",
        "        return jsonify({'error': f'An error occurred during model prediction: {str(e)}'}), 500\n",
        "    # jsonify() converts this dictionary to a proper JSON response object with the correct headers.\n",
        "    # We also explicitly return a 200 OK status code to signify that the request was processed successfully.\n",
        "    return jsonify({'sentiment': sentiment.title()}), 200\n",
        "if __name__ == '__main__':\n",
        "    # app.run() starts the Flask development server.\n",
        "    # debug=True enables debug mode, which provides helpful error messages\n",
        "    # and automatically reloads the server when you save changes to the code.\n",
        "    # We set the port to 5000, which is a common port for local development.\n",
        "    app.run(debug=True, port=5000)\n"
      ],
      "metadata": {
        "id": "sZrlo77OmVFV",
        "colab": {
          "base_uri": "https://localhost:8080/"
        },
        "outputId": "696b1e23-7117-4821-e61e-5a77715b77aa"
      },
      "execution_count": null,
      "outputs": [
        {
          "metadata": {
            "tags": null
          },
          "name": "stdout",
          "output_type": "stream",
          "text": [
            " * Serving Flask app '__main__'\n",
            " * Debug mode: on\n"
          ]
        },
        {
          "metadata": {
            "tags": null
          },
          "name": "stderr",
          "output_type": "stream",
          "text": [
            "INFO:werkzeug:\u001b[31m\u001b[1mWARNING: This is a development server. Do not use it in a production deployment. Use a production WSGI server instead.\u001b[0m\n",
            " * Running on http://127.0.0.1:5000\n",
            "INFO:werkzeug:\u001b[33mPress CTRL+C to quit\u001b[0m\n",
            "INFO:werkzeug: * Restarting with watchdog (inotify)\n",
            "ERROR:root:Unexpected exception finding object shape\n",
            "Traceback (most recent call last):\n",
            "  File \"/usr/local/lib/python3.12/dist-packages/google/colab/_debugpy_repr.py\", line 54, in get_shape\n",
            "    shape = getattr(obj, 'shape', None)\n",
            "            ^^^^^^^^^^^^^^^^^^^^^^^^^^^\n",
            "  File \"/usr/local/lib/python3.12/dist-packages/werkzeug/local.py\", line 318, in __get__\n",
            "    obj = instance._get_current_object()\n",
            "          ^^^^^^^^^^^^^^^^^^^^^^^^^^^^^^\n",
            "  File \"/usr/local/lib/python3.12/dist-packages/werkzeug/local.py\", line 519, in _get_current_object\n",
            "    raise RuntimeError(unbound_message) from None\n",
            "RuntimeError: Working outside of request context.\n",
            "\n",
            "This typically means that you attempted to use functionality that needed\n",
            "an active HTTP request. Consult the documentation on testing for\n",
            "information about how to avoid this problem.\n",
            "ERROR:root:Unexpected exception finding object shape\n",
            "Traceback (most recent call last):\n",
            "  File \"/usr/local/lib/python3.12/dist-packages/google/colab/_debugpy_repr.py\", line 54, in get_shape\n",
            "    shape = getattr(obj, 'shape', None)\n",
            "            ^^^^^^^^^^^^^^^^^^^^^^^^^^^\n",
            "  File \"/usr/local/lib/python3.12/dist-packages/werkzeug/local.py\", line 318, in __get__\n",
            "    obj = instance._get_current_object()\n",
            "          ^^^^^^^^^^^^^^^^^^^^^^^^^^^^^^\n",
            "  File \"/usr/local/lib/python3.12/dist-packages/werkzeug/local.py\", line 519, in _get_current_object\n",
            "    raise RuntimeError(unbound_message) from None\n",
            "RuntimeError: Working outside of request context.\n",
            "\n",
            "This typically means that you attempted to use functionality that needed\n",
            "an active HTTP request. Consult the documentation on testing for\n",
            "information about how to avoid this problem.\n",
            "ERROR:root:Unexpected exception finding object shape\n",
            "Traceback (most recent call last):\n",
            "  File \"/usr/local/lib/python3.12/dist-packages/google/colab/_debugpy_repr.py\", line 54, in get_shape\n",
            "    shape = getattr(obj, 'shape', None)\n",
            "            ^^^^^^^^^^^^^^^^^^^^^^^^^^^\n",
            "  File \"/usr/local/lib/python3.12/dist-packages/werkzeug/local.py\", line 318, in __get__\n",
            "    obj = instance._get_current_object()\n",
            "          ^^^^^^^^^^^^^^^^^^^^^^^^^^^^^^\n",
            "  File \"/usr/local/lib/python3.12/dist-packages/werkzeug/local.py\", line 519, in _get_current_object\n",
            "    raise RuntimeError(unbound_message) from None\n",
            "RuntimeError: Working outside of request context.\n",
            "\n",
            "This typically means that you attempted to use functionality that needed\n",
            "an active HTTP request. Consult the documentation on testing for\n",
            "information about how to avoid this problem.\n"
          ]
        }
      ]
    },
    {
      "cell_type": "markdown",
      "metadata": {
        "id": "566fc1c5"
      },
      "source": [
        "Now, we can run the Flask app again, and `ngrok` will provide a public URL to access it."
      ]
    },
    {
      "cell_type": "code",
      "source": [
        "# Import the requests library, which is the standard for making HTTP requests in Python.\n",
        "import requests\n",
        "\n",
        "# Define the URL of your local Flask API endpoint.\n",
        "# Make sure your Flask server (app.py) is running before you run this script.\n",
        "API_URL = 'http://127.0.0.1:5000/predict'\n",
        "\n",
        "# Let's create two test cases: one clearly positive and one clearly negative.\n",
        "positive_review = {\n",
        "    \"review\": \"This movie was absolutely brilliant! The acting was superb and the plot was engaging from start to finish.\"\n",
        "}\n",
        "\n",
        "negative_review = {\n",
        "    \"review\": \"What a complete waste of time. The plot was predictable and the characters were incredibly boring.\"\n",
        "}\n",
        "\n",
        "def test_sentiment(review_data, expected_sentiment):\n",
        "    \"\"\"\n",
        "    A helper function to send a request to the API and check the response.\n",
        "    \"\"\"\n",
        "    print(f\"--- Testing review: '{review_data['review'][:30]}...' ---\")\n",
        "    try:\n",
        "        # Use requests.post() to send a POST request.\n",
        "        # - The first argument is the URL.\n",
        "        # - The 'json' parameter takes a Python dictionary and automatically handles\n",
        "        #   converting it to a JSON string and setting the 'Content-Type' header.\n",
        "        response = requests.post(API_URL, json=review_data)\n",
        "\n",
        "        # We can check the HTTP status code of the response. 200 means 'OK'.\n",
        "        print(f\"Status Code: {response.status_code}\")\n",
        "\n",
        "        # If the request was successful, parse the JSON response and print it.\n",
        "        if response.status_code == 200:\n",
        "            response_data = response.json()\n",
        "            print(f\"Received Data: {response_data}\")\n",
        "            # Check if the prediction matches what we expect.\n",
        "            if response_data.get('sentiment') == expected_sentiment:\n",
        "                print(\"Prediction matches expected result. Test PASSED! ✅\")\n",
        "            else:\n",
        "                print(\"Prediction does NOT match expected result. Test FAILED! ❌\")\n",
        "        else:\n",
        "            # If the status code is not 200, something went wrong. Print the error content.\n",
        "            print(f\"Error: {response.text}\")\n",
        "\n",
        "    except requests.exceptions.ConnectionError as e:\n",
        "        print(f\"Connection Error: Could not connect to the server at {API_URL}.\")\n",
        "        print(\"Please make sure your Flask app (app.py) is running in another terminal.\")\n",
        "\n",
        "    print(\"-\" * 40 + \"\\\\n\")\n",
        "\n",
        "# --- Run the tests ---\n",
        "if __name__ == '__main__':\n",
        "    test_sentiment(positive_review, \"Positive\")\n",
        "    test_sentiment(negative_review, \"Negative\")\n"
      ],
      "metadata": {
        "id": "bFVJ4vPTGMnU"
      },
      "execution_count": null,
      "outputs": []
    }
  ]
}